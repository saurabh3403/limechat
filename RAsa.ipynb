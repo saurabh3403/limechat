{
  "nbformat": 4,
  "nbformat_minor": 0,
  "metadata": {
    "colab": {
      "name": "RAsa.ipynb",
      "provenance": [],
      "authorship_tag": "ABX9TyNeh3oOa0lZxfktH6zKmZUB",
      "include_colab_link": true
    },
    "kernelspec": {
      "name": "python3",
      "display_name": "Python 3"
    }
  },
  "cells": [
    {
      "cell_type": "markdown",
      "metadata": {
        "id": "view-in-github",
        "colab_type": "text"
      },
      "source": [
        "<a href=\"https://colab.research.google.com/github/saurabh3403/limechat/blob/main/RAsa.ipynb\" target=\"_parent\"><img src=\"https://colab.research.google.com/assets/colab-badge.svg\" alt=\"Open In Colab\"/></a>"
      ]
    },
    {
      "cell_type": "code",
      "metadata": {
        "colab": {
          "base_uri": "https://localhost:8080/"
        },
        "id": "TVuNGx3aPLfH",
        "outputId": "e101fb0d-1ec6-4abf-c927-676348895c37"
      },
      "source": [
        "pip install -U ipython\n"
      ],
      "execution_count": 106,
      "outputs": [
        {
          "output_type": "stream",
          "text": [
            "Requirement already up-to-date: ipython in /usr/local/lib/python3.6/dist-packages (7.16.1)\n",
            "Requirement already satisfied, skipping upgrade: traitlets>=4.2 in /usr/local/lib/python3.6/dist-packages (from ipython) (4.3.3)\n",
            "Requirement already satisfied, skipping upgrade: pickleshare in /usr/local/lib/python3.6/dist-packages (from ipython) (0.7.5)\n",
            "Requirement already satisfied, skipping upgrade: pexpect; sys_platform != \"win32\" in /usr/local/lib/python3.6/dist-packages (from ipython) (4.8.0)\n",
            "Requirement already satisfied, skipping upgrade: decorator in /usr/local/lib/python3.6/dist-packages (from ipython) (4.4.2)\n",
            "Requirement already satisfied, skipping upgrade: setuptools>=18.5 in /usr/local/lib/python3.6/dist-packages (from ipython) (50.3.2)\n",
            "Requirement already satisfied, skipping upgrade: backcall in /usr/local/lib/python3.6/dist-packages (from ipython) (0.2.0)\n",
            "Requirement already satisfied, skipping upgrade: prompt-toolkit!=3.0.0,!=3.0.1,<3.1.0,>=2.0.0 in /usr/local/lib/python3.6/dist-packages (from ipython) (2.0.10)\n",
            "Requirement already satisfied, skipping upgrade: jedi>=0.10 in /usr/local/lib/python3.6/dist-packages (from ipython) (0.17.2)\n",
            "Requirement already satisfied, skipping upgrade: pygments in /usr/local/lib/python3.6/dist-packages (from ipython) (2.6.1)\n",
            "Requirement already satisfied, skipping upgrade: six in /usr/local/lib/python3.6/dist-packages (from traitlets>=4.2->ipython) (1.15.0)\n",
            "Requirement already satisfied, skipping upgrade: ipython-genutils in /usr/local/lib/python3.6/dist-packages (from traitlets>=4.2->ipython) (0.2.0)\n",
            "Requirement already satisfied, skipping upgrade: ptyprocess>=0.5 in /usr/local/lib/python3.6/dist-packages (from pexpect; sys_platform != \"win32\"->ipython) (0.6.0)\n",
            "Requirement already satisfied, skipping upgrade: wcwidth in /usr/local/lib/python3.6/dist-packages (from prompt-toolkit!=3.0.0,!=3.0.1,<3.1.0,>=2.0.0->ipython) (0.2.5)\n",
            "Requirement already satisfied, skipping upgrade: parso<0.8.0,>=0.7.0 in /usr/local/lib/python3.6/dist-packages (from jedi>=0.10->ipython) (0.7.1)\n"
          ],
          "name": "stdout"
        }
      ]
    },
    {
      "cell_type": "code",
      "metadata": {
        "colab": {
          "base_uri": "https://localhost:8080/"
        },
        "id": "EqpCDL38PYgm",
        "outputId": "c0cfa512-0036-4a4a-cc04-bc055b2e36a1"
      },
      "source": [
        "!pip3 install -U pip"
      ],
      "execution_count": 107,
      "outputs": [
        {
          "output_type": "stream",
          "text": [
            "Requirement already up-to-date: pip in /usr/local/lib/python3.6/dist-packages (20.2.4)\n"
          ],
          "name": "stdout"
        }
      ]
    },
    {
      "cell_type": "code",
      "metadata": {
        "colab": {
          "base_uri": "https://localhost:8080/"
        },
        "id": "vpHgrJLXSn8h",
        "outputId": "04e3e56b-b95f-4b98-a7bc-0391aad32906"
      },
      "source": [
        "!pip3 install -U pip\n"
      ],
      "execution_count": 108,
      "outputs": [
        {
          "output_type": "stream",
          "text": [
            "Requirement already up-to-date: pip in /usr/local/lib/python3.6/dist-packages (20.2.4)\n"
          ],
          "name": "stdout"
        }
      ]
    },
    {
      "cell_type": "code",
      "metadata": {
        "colab": {
          "base_uri": "https://localhost:8080/"
        },
        "id": "f27TKmvCUdoj",
        "outputId": "ab7c7ca4-b2ba-40d6-99bb-5f0e02f08848"
      },
      "source": [
        "!apt-get install python3-venv"
      ],
      "execution_count": 110,
      "outputs": [
        {
          "output_type": "stream",
          "text": [
            "Reading package lists... Done\n",
            "Building dependency tree       \n",
            "Reading state information... Done\n",
            "python3-venv is already the newest version (3.6.7-1~18.04).\n",
            "0 upgraded, 0 newly installed, 0 to remove and 14 not upgraded.\n"
          ],
          "name": "stdout"
        }
      ]
    },
    {
      "cell_type": "code",
      "metadata": {
        "id": "u0rFfbflUJVR"
      },
      "source": [
        "!python3 -m venv ./venv"
      ],
      "execution_count": 111,
      "outputs": []
    },
    {
      "cell_type": "code",
      "metadata": {
        "id": "j663-W-1Up7s"
      },
      "source": [
        "!source ./venv/bin/activate"
      ],
      "execution_count": 112,
      "outputs": []
    },
    {
      "cell_type": "code",
      "metadata": {
        "colab": {
          "base_uri": "https://localhost:8080/"
        },
        "id": "jclxOK2UUuos",
        "outputId": "135a2f66-88da-4477-ec42-3498c7804ccd"
      },
      "source": [
        "!pip3 install -U pip"
      ],
      "execution_count": 113,
      "outputs": [
        {
          "output_type": "stream",
          "text": [
            "Requirement already up-to-date: pip in /usr/local/lib/python3.6/dist-packages (20.2.4)\n"
          ],
          "name": "stdout"
        }
      ]
    },
    {
      "cell_type": "code",
      "metadata": {
        "colab": {
          "base_uri": "https://localhost:8080/"
        },
        "id": "FyLjV1VJUyk6",
        "outputId": "83c8cdec-6561-4e8b-e630-92c32e27ba7f"
      },
      "source": [
        "!pip3 install rasa"
      ],
      "execution_count": 114,
      "outputs": [
        {
          "output_type": "stream",
          "text": [
            "Requirement already satisfied: rasa in /usr/local/lib/python3.6/dist-packages (2.0.2)\n",
            "Requirement already satisfied: sanic-jwt<1.5.0,>=1.3.2 in /usr/local/lib/python3.6/dist-packages (from rasa) (1.4.1)\n",
            "Requirement already satisfied: networkx<2.6,>=2.4 in /usr/local/lib/python3.6/dist-packages (from rasa) (2.5)\n",
            "Requirement already satisfied: packaging<21.0,>=20.0 in /usr/local/lib/python3.6/dist-packages (from rasa) (20.4)\n",
            "Requirement already satisfied: tensorflow<2.4,>=2.3 in /usr/local/lib/python3.6/dist-packages (from rasa) (2.3.0)\n",
            "Requirement already satisfied: psycopg2-binary<2.9.0,>=2.8.2 in /usr/local/lib/python3.6/dist-packages (from rasa) (2.8.6)\n",
            "Requirement already satisfied: sentry-sdk<0.20.0,>=0.17.0 in /usr/local/lib/python3.6/dist-packages (from rasa) (0.19.4)\n",
            "Requirement already satisfied: pymongo[srv,tls]<3.11,>=3.8 in /usr/local/lib/python3.6/dist-packages (from rasa) (3.10.1)\n",
            "Requirement already satisfied: twilio<6.46,>=6.26 in /usr/local/lib/python3.6/dist-packages (from rasa) (6.45.4)\n",
            "Requirement already satisfied: SQLAlchemy<1.4.0,>=1.3.3 in /usr/local/lib/python3.6/dist-packages (from rasa) (1.3.20)\n",
            "Requirement already satisfied: python-engineio<3.14,>=3.11 in /usr/local/lib/python3.6/dist-packages (from rasa) (3.13.2)\n",
            "Requirement already satisfied: slackclient<3.0.0,>=2.0.0 in /usr/local/lib/python3.6/dist-packages (from rasa) (2.9.3)\n",
            "Requirement already satisfied: tqdm<4.51,>=4.31 in /usr/local/lib/python3.6/dist-packages (from rasa) (4.41.1)\n",
            "Requirement already satisfied: terminaltables<3.2.0,>=3.1.0 in /usr/local/lib/python3.6/dist-packages (from rasa) (3.1.0)\n",
            "Requirement already satisfied: absl-py<0.11,>=0.9 in /usr/local/lib/python3.6/dist-packages (from rasa) (0.10.0)\n",
            "Requirement already satisfied: cloudpickle<1.5,>=1.2 in /usr/local/lib/python3.6/dist-packages (from rasa) (1.3.0)\n",
            "Requirement already satisfied: colorhash<1.1.0,>=1.0.2 in /usr/local/lib/python3.6/dist-packages (from rasa) (1.0.2)\n",
            "Requirement already satisfied: python-socketio<4.7,>=4.4 in /usr/local/lib/python3.6/dist-packages (from rasa) (4.6.0)\n",
            "Requirement already satisfied: mattermostwrapper<2.3,>=2.2 in /usr/local/lib/python3.6/dist-packages (from rasa) (2.2)\n",
            "Requirement already satisfied: rocketchat_API<1.10.0,>=0.6.31 in /usr/local/lib/python3.6/dist-packages (from rasa) (1.9.1)\n",
            "Requirement already satisfied: tensorflow-text<2.4,>=2.3; sys_platform != \"win32\" in /usr/local/lib/python3.6/dist-packages (from rasa) (2.3.0)\n",
            "Requirement already satisfied: matplotlib<3.4,>=3.1 in /usr/local/lib/python3.6/dist-packages (from rasa) (3.2.2)\n",
            "Requirement already satisfied: regex<2020.10,>=2020.6 in /usr/local/lib/python3.6/dist-packages (from rasa) (2020.9.27)\n",
            "Requirement already satisfied: fbmessenger<6.1.0,>=6.0.0 in /usr/local/lib/python3.6/dist-packages (from rasa) (6.0.0)\n",
            "Requirement already satisfied: kafka-python<3.0,>=1.4 in /usr/local/lib/python3.6/dist-packages (from rasa) (1.4.7)\n",
            "Requirement already satisfied: pika<1.2.0,>=1.1.0 in /usr/local/lib/python3.6/dist-packages (from rasa) (1.1.0)\n",
            "Requirement already satisfied: python-dateutil<2.9,>=2.8 in /usr/local/lib/python3.6/dist-packages (from rasa) (2.8.1)\n",
            "Requirement already satisfied: PyJWT<1.8,>=1.7 in /usr/local/lib/python3.6/dist-packages (from rasa) (1.7.1)\n",
            "Requirement already satisfied: joblib<0.16.0,>=0.15.1 in /usr/local/lib/python3.6/dist-packages (from rasa) (0.15.1)\n",
            "Requirement already satisfied: numpy<2.0,>=1.16 in /usr/local/lib/python3.6/dist-packages (from rasa) (1.18.5)\n",
            "Requirement already satisfied: sanic-cors<0.11.0,>=0.10.0b1 in /usr/local/lib/python3.6/dist-packages (from rasa) (0.10.0.post3)\n",
            "Requirement already satisfied: ujson<4.0,>=1.35 in /usr/local/lib/python3.6/dist-packages (from rasa) (1.35)\n",
            "Requirement already satisfied: tensorflow-probability<0.12,>=0.11 in /usr/local/lib/python3.6/dist-packages (from rasa) (0.11.0)\n",
            "Requirement already satisfied: scikit-learn<0.24,>=0.22 in /usr/local/lib/python3.6/dist-packages (from rasa) (0.22.2.post1)\n",
            "Requirement already satisfied: pykwalify<1.8.0,>=1.7.0 in /usr/local/lib/python3.6/dist-packages (from rasa) (1.7.0)\n",
            "Requirement already satisfied: scipy<2.0.0,>=1.4.1 in /usr/local/lib/python3.6/dist-packages (from rasa) (1.4.1)\n",
            "Requirement already satisfied: pytz<2021.0,>=2019.1 in /usr/local/lib/python3.6/dist-packages (from rasa) (2020.4)\n",
            "Requirement already satisfied: boto3<2.0,>=1.12 in /usr/local/lib/python3.6/dist-packages (from rasa) (1.16.24)\n",
            "Requirement already satisfied: multidict<5.0,>=4.6 in /usr/local/lib/python3.6/dist-packages (from rasa) (4.7.6)\n",
            "Requirement already satisfied: python-telegram-bot<13.0,>=11.1 in /usr/local/lib/python3.6/dist-packages (from rasa) (12.8)\n",
            "Requirement already satisfied: questionary<1.6.0,>=1.5.1 in /usr/local/lib/python3.6/dist-packages (from rasa) (1.5.2)\n",
            "Requirement already satisfied: sklearn-crfsuite<0.4,>=0.3 in /usr/local/lib/python3.6/dist-packages (from rasa) (0.3.6)\n",
            "Requirement already satisfied: attrs<20.3,>=19.3 in /usr/local/lib/python3.6/dist-packages (from rasa) (19.3.0)\n",
            "Requirement already satisfied: async_generator<1.11,>=1.10 in /usr/local/lib/python3.6/dist-packages (from rasa) (1.10)\n",
            "Requirement already satisfied: tensorflow_hub<0.10,>=0.9 in /usr/local/lib/python3.6/dist-packages (from rasa) (0.9.0)\n",
            "Requirement already satisfied: coloredlogs<15,>=10 in /usr/local/lib/python3.6/dist-packages (from rasa) (14.0)\n",
            "Requirement already satisfied: sanic<21.0.0,>=19.12.2 in /usr/local/lib/python3.6/dist-packages (from rasa) (20.9.1)\n",
            "Requirement already satisfied: colorclass<2.3,>=2.2 in /usr/local/lib/python3.6/dist-packages (from rasa) (2.2.0)\n",
            "Requirement already satisfied: rasa-sdk<3.0.0,>=2.0.0 in /usr/local/lib/python3.6/dist-packages (from rasa) (2.1.2)\n",
            "Requirement already satisfied: prompt-toolkit<3.0,>=2.0 in /usr/local/lib/python3.6/dist-packages (from rasa) (2.0.10)\n",
            "Requirement already satisfied: requests<3.0,>=2.23 in /usr/local/lib/python3.6/dist-packages (from rasa) (2.23.0)\n",
            "Requirement already satisfied: aiohttp<3.7,>=3.6 in /usr/local/lib/python3.6/dist-packages (from rasa) (3.6.3)\n",
            "Requirement already satisfied: tensorflow-addons<=0.12,>=0.10 in /usr/local/lib/python3.6/dist-packages (from rasa) (0.11.2)\n",
            "Requirement already satisfied: webexteamssdk<1.7.0,>=1.1.1 in /usr/local/lib/python3.6/dist-packages (from rasa) (1.6)\n",
            "Requirement already satisfied: redis<4.0,>=3.4 in /usr/local/lib/python3.6/dist-packages (from rasa) (3.5.3)\n",
            "Requirement already satisfied: setuptools>=41.0.0 in /usr/local/lib/python3.6/dist-packages (from rasa) (50.3.2)\n",
            "Requirement already satisfied: tensorflow-estimator<2.4,>=2.3 in /usr/local/lib/python3.6/dist-packages (from rasa) (2.3.0)\n",
            "Requirement already satisfied: jsonschema<3.3,>=3.2 in /usr/local/lib/python3.6/dist-packages (from rasa) (3.2.0)\n",
            "Requirement already satisfied: oauth2client==4.1.3 in /usr/local/lib/python3.6/dist-packages (from rasa) (4.1.3)\n",
            "Requirement already satisfied: jsonpickle<1.5,>=1.3 in /usr/local/lib/python3.6/dist-packages (from rasa) (1.4.1)\n",
            "Requirement already satisfied: ruamel.yaml<0.17.0,>=0.16.5 in /usr/local/lib/python3.6/dist-packages (from rasa) (0.16.12)\n",
            "Requirement already satisfied: apscheduler<3.7,>=3.6 in /usr/local/lib/python3.6/dist-packages (from rasa) (3.6.3)\n",
            "Requirement already satisfied: pydot<1.5,>=1.4 in /usr/local/lib/python3.6/dist-packages (from rasa) (1.4.1)\n",
            "Requirement already satisfied: decorator>=4.3.0 in /usr/local/lib/python3.6/dist-packages (from networkx<2.6,>=2.4->rasa) (4.4.2)\n",
            "Requirement already satisfied: pyparsing>=2.0.2 in /usr/local/lib/python3.6/dist-packages (from packaging<21.0,>=20.0->rasa) (2.4.7)\n",
            "Requirement already satisfied: six in /usr/local/lib/python3.6/dist-packages (from packaging<21.0,>=20.0->rasa) (1.15.0)\n",
            "Requirement already satisfied: keras-preprocessing<1.2,>=1.1.1 in /usr/local/lib/python3.6/dist-packages (from tensorflow<2.4,>=2.3->rasa) (1.1.2)\n",
            "Requirement already satisfied: astunparse==1.6.3 in /usr/local/lib/python3.6/dist-packages (from tensorflow<2.4,>=2.3->rasa) (1.6.3)\n",
            "Requirement already satisfied: h5py<2.11.0,>=2.10.0 in /usr/local/lib/python3.6/dist-packages (from tensorflow<2.4,>=2.3->rasa) (2.10.0)\n",
            "Requirement already satisfied: grpcio>=1.8.6 in /usr/local/lib/python3.6/dist-packages (from tensorflow<2.4,>=2.3->rasa) (1.33.2)\n",
            "Requirement already satisfied: tensorboard<3,>=2.3.0 in /usr/local/lib/python3.6/dist-packages (from tensorflow<2.4,>=2.3->rasa) (2.3.0)\n",
            "Requirement already satisfied: wheel>=0.26 in /usr/local/lib/python3.6/dist-packages (from tensorflow<2.4,>=2.3->rasa) (0.35.1)\n",
            "Requirement already satisfied: protobuf>=3.9.2 in /usr/local/lib/python3.6/dist-packages (from tensorflow<2.4,>=2.3->rasa) (3.12.4)\n",
            "Requirement already satisfied: google-pasta>=0.1.8 in /usr/local/lib/python3.6/dist-packages (from tensorflow<2.4,>=2.3->rasa) (0.2.0)\n",
            "Requirement already satisfied: wrapt>=1.11.1 in /usr/local/lib/python3.6/dist-packages (from tensorflow<2.4,>=2.3->rasa) (1.12.1)\n",
            "Requirement already satisfied: termcolor>=1.1.0 in /usr/local/lib/python3.6/dist-packages (from tensorflow<2.4,>=2.3->rasa) (1.1.0)\n",
            "Requirement already satisfied: opt-einsum>=2.3.2 in /usr/local/lib/python3.6/dist-packages (from tensorflow<2.4,>=2.3->rasa) (3.3.0)\n",
            "Requirement already satisfied: gast==0.3.3 in /usr/local/lib/python3.6/dist-packages (from tensorflow<2.4,>=2.3->rasa) (0.3.3)\n",
            "Requirement already satisfied: certifi in /usr/local/lib/python3.6/dist-packages (from sentry-sdk<0.20.0,>=0.17.0->rasa) (2020.11.8)\n",
            "Requirement already satisfied: urllib3>=1.10.0 in /usr/local/lib/python3.6/dist-packages (from sentry-sdk<0.20.0,>=0.17.0->rasa) (1.24.3)\n",
            "Requirement already satisfied: dnspython<2.0.0,>=1.16.0; extra == \"srv\" in /usr/local/lib/python3.6/dist-packages (from pymongo[srv,tls]<3.11,>=3.8->rasa) (1.16.0)\n",
            "Requirement already satisfied: kiwisolver>=1.0.1 in /usr/local/lib/python3.6/dist-packages (from matplotlib<3.4,>=3.1->rasa) (1.3.1)\n",
            "Requirement already satisfied: cycler>=0.10 in /usr/local/lib/python3.6/dist-packages (from matplotlib<3.4,>=3.1->rasa) (0.10.0)\n",
            "Requirement already satisfied: sanic-plugins-framework>=0.9.0 in /usr/local/lib/python3.6/dist-packages (from sanic-cors<0.11.0,>=0.10.0b1->rasa) (0.9.4.post1)\n",
            "Requirement already satisfied: dm-tree in /usr/local/lib/python3.6/dist-packages (from tensorflow-probability<0.12,>=0.11->rasa) (0.1.5)\n",
            "Requirement already satisfied: PyYAML>=3.11 in /usr/local/lib/python3.6/dist-packages (from pykwalify<1.8.0,>=1.7.0->rasa) (3.13)\n",
            "Requirement already satisfied: docopt>=0.6.2 in /usr/local/lib/python3.6/dist-packages (from pykwalify<1.8.0,>=1.7.0->rasa) (0.6.2)\n",
            "Requirement already satisfied: jmespath<1.0.0,>=0.7.1 in /usr/local/lib/python3.6/dist-packages (from boto3<2.0,>=1.12->rasa) (0.10.0)\n",
            "Requirement already satisfied: s3transfer<0.4.0,>=0.3.0 in /usr/local/lib/python3.6/dist-packages (from boto3<2.0,>=1.12->rasa) (0.3.3)\n",
            "Requirement already satisfied: botocore<1.20.0,>=1.19.24 in /usr/local/lib/python3.6/dist-packages (from boto3<2.0,>=1.12->rasa) (1.19.24)\n",
            "Requirement already satisfied: cryptography in /usr/local/lib/python3.6/dist-packages (from python-telegram-bot<13.0,>=11.1->rasa) (2.9.2)\n",
            "Requirement already satisfied: tornado>=5.1 in /usr/local/lib/python3.6/dist-packages (from python-telegram-bot<13.0,>=11.1->rasa) (5.1.1)\n",
            "Requirement already satisfied: python-crfsuite>=0.8.3 in /usr/local/lib/python3.6/dist-packages (from sklearn-crfsuite<0.4,>=0.3->rasa) (0.9.7)\n",
            "Requirement already satisfied: tabulate in /usr/local/lib/python3.6/dist-packages (from sklearn-crfsuite<0.4,>=0.3->rasa) (0.8.7)\n",
            "Requirement already satisfied: humanfriendly>=7.1 in /usr/local/lib/python3.6/dist-packages (from coloredlogs<15,>=10->rasa) (8.2)\n",
            "Requirement already satisfied: websockets<9.0,>=8.1 in /usr/local/lib/python3.6/dist-packages (from sanic<21.0.0,>=19.12.2->rasa) (8.1)\n",
            "Requirement already satisfied: uvloop>=0.5.3; sys_platform != \"win32\" and implementation_name == \"cpython\" in /usr/local/lib/python3.6/dist-packages (from sanic<21.0.0,>=19.12.2->rasa) (0.14.0)\n",
            "Requirement already satisfied: httpx==0.15.4 in /usr/local/lib/python3.6/dist-packages (from sanic<21.0.0,>=19.12.2->rasa) (0.15.4)\n",
            "Requirement already satisfied: aiofiles>=0.3.0 in /usr/local/lib/python3.6/dist-packages (from sanic<21.0.0,>=19.12.2->rasa) (0.6.0)\n",
            "Requirement already satisfied: httptools>=0.0.10 in /usr/local/lib/python3.6/dist-packages (from sanic<21.0.0,>=19.12.2->rasa) (0.1.1)\n",
            "Requirement already satisfied: wcwidth in /usr/local/lib/python3.6/dist-packages (from prompt-toolkit<3.0,>=2.0->rasa) (0.2.5)\n",
            "Requirement already satisfied: idna<3,>=2.5 in /usr/local/lib/python3.6/dist-packages (from requests<3.0,>=2.23->rasa) (2.10)\n",
            "Requirement already satisfied: chardet<4,>=3.0.2 in /usr/local/lib/python3.6/dist-packages (from requests<3.0,>=2.23->rasa) (3.0.4)\n",
            "Requirement already satisfied: async-timeout<4.0,>=3.0 in /usr/local/lib/python3.6/dist-packages (from aiohttp<3.7,>=3.6->rasa) (3.0.1)\n",
            "Requirement already satisfied: yarl<1.6.0,>=1.0 in /usr/local/lib/python3.6/dist-packages (from aiohttp<3.7,>=3.6->rasa) (1.5.1)\n",
            "Requirement already satisfied: idna-ssl>=1.0; python_version < \"3.7\" in /usr/local/lib/python3.6/dist-packages (from aiohttp<3.7,>=3.6->rasa) (1.1.0)\n",
            "Requirement already satisfied: typing-extensions>=3.6.5; python_version < \"3.7\" in /usr/local/lib/python3.6/dist-packages (from aiohttp<3.7,>=3.6->rasa) (3.7.4.3)\n",
            "Requirement already satisfied: typeguard>=2.7 in /usr/local/lib/python3.6/dist-packages (from tensorflow-addons<=0.12,>=0.10->rasa) (2.7.1)\n",
            "Requirement already satisfied: requests-toolbelt in /usr/local/lib/python3.6/dist-packages (from webexteamssdk<1.7.0,>=1.1.1->rasa) (0.9.1)\n",
            "Requirement already satisfied: future in /usr/local/lib/python3.6/dist-packages (from webexteamssdk<1.7.0,>=1.1.1->rasa) (0.16.0)\n",
            "Requirement already satisfied: pyrsistent>=0.14.0 in /usr/local/lib/python3.6/dist-packages (from jsonschema<3.3,>=3.2->rasa) (0.17.3)\n",
            "Requirement already satisfied: importlib-metadata; python_version < \"3.8\" in /usr/local/lib/python3.6/dist-packages (from jsonschema<3.3,>=3.2->rasa) (2.0.0)\n",
            "Requirement already satisfied: pyasn1>=0.1.7 in /usr/local/lib/python3.6/dist-packages (from oauth2client==4.1.3->rasa) (0.4.8)\n",
            "Requirement already satisfied: rsa>=3.1.4 in /usr/local/lib/python3.6/dist-packages (from oauth2client==4.1.3->rasa) (4.6)\n",
            "Requirement already satisfied: pyasn1-modules>=0.0.5 in /usr/local/lib/python3.6/dist-packages (from oauth2client==4.1.3->rasa) (0.2.8)\n",
            "Requirement already satisfied: httplib2>=0.9.1 in /usr/local/lib/python3.6/dist-packages (from oauth2client==4.1.3->rasa) (0.17.4)\n",
            "Requirement already satisfied: ruamel.yaml.clib>=0.1.2; platform_python_implementation == \"CPython\" and python_version < \"3.9\" in /usr/local/lib/python3.6/dist-packages (from ruamel.yaml<0.17.0,>=0.16.5->rasa) (0.2.2)\n",
            "Requirement already satisfied: tzlocal>=1.2 in /usr/local/lib/python3.6/dist-packages (from apscheduler<3.7,>=3.6->rasa) (1.5.1)\n",
            "Requirement already satisfied: google-auth-oauthlib<0.5,>=0.4.1 in /usr/local/lib/python3.6/dist-packages (from tensorboard<3,>=2.3.0->tensorflow<2.4,>=2.3->rasa) (0.4.2)\n",
            "Requirement already satisfied: werkzeug>=0.11.15 in /usr/local/lib/python3.6/dist-packages (from tensorboard<3,>=2.3.0->tensorflow<2.4,>=2.3->rasa) (1.0.1)\n",
            "Requirement already satisfied: markdown>=2.6.8 in /usr/local/lib/python3.6/dist-packages (from tensorboard<3,>=2.3.0->tensorflow<2.4,>=2.3->rasa) (3.3.3)\n",
            "Requirement already satisfied: tensorboard-plugin-wit>=1.6.0 in /usr/local/lib/python3.6/dist-packages (from tensorboard<3,>=2.3.0->tensorflow<2.4,>=2.3->rasa) (1.7.0)\n",
            "Requirement already satisfied: google-auth<2,>=1.6.3 in /usr/local/lib/python3.6/dist-packages (from tensorboard<3,>=2.3.0->tensorflow<2.4,>=2.3->rasa) (1.17.2)\n",
            "Requirement already satisfied: cffi!=1.11.3,>=1.8 in /usr/local/lib/python3.6/dist-packages (from cryptography->python-telegram-bot<13.0,>=11.1->rasa) (1.14.3)\n",
            "Requirement already satisfied: sniffio in /usr/local/lib/python3.6/dist-packages (from httpx==0.15.4->sanic<21.0.0,>=19.12.2->rasa) (1.2.0)\n",
            "Requirement already satisfied: httpcore==0.11.* in /usr/local/lib/python3.6/dist-packages (from httpx==0.15.4->sanic<21.0.0,>=19.12.2->rasa) (0.11.1)\n",
            "Requirement already satisfied: rfc3986[idna2008]<2,>=1.3 in /usr/local/lib/python3.6/dist-packages (from httpx==0.15.4->sanic<21.0.0,>=19.12.2->rasa) (1.4.0)\n",
            "Requirement already satisfied: zipp>=0.5 in /usr/local/lib/python3.6/dist-packages (from importlib-metadata; python_version < \"3.8\"->jsonschema<3.3,>=3.2->rasa) (3.4.0)\n",
            "Requirement already satisfied: requests-oauthlib>=0.7.0 in /usr/local/lib/python3.6/dist-packages (from google-auth-oauthlib<0.5,>=0.4.1->tensorboard<3,>=2.3.0->tensorflow<2.4,>=2.3->rasa) (1.3.0)\n",
            "Requirement already satisfied: cachetools<5.0,>=2.0.0 in /usr/local/lib/python3.6/dist-packages (from google-auth<2,>=1.6.3->tensorboard<3,>=2.3.0->tensorflow<2.4,>=2.3->rasa) (4.1.1)\n",
            "Requirement already satisfied: pycparser in /usr/local/lib/python3.6/dist-packages (from cffi!=1.11.3,>=1.8->cryptography->python-telegram-bot<13.0,>=11.1->rasa) (2.20)\n",
            "Requirement already satisfied: contextvars>=2.1; python_version < \"3.7\" in /usr/local/lib/python3.6/dist-packages (from sniffio->httpx==0.15.4->sanic<21.0.0,>=19.12.2->rasa) (2.4)\n",
            "Requirement already satisfied: h11<0.10,>=0.8 in /usr/local/lib/python3.6/dist-packages (from httpcore==0.11.*->httpx==0.15.4->sanic<21.0.0,>=19.12.2->rasa) (0.9.0)\n",
            "Requirement already satisfied: oauthlib>=3.0.0 in /usr/local/lib/python3.6/dist-packages (from requests-oauthlib>=0.7.0->google-auth-oauthlib<0.5,>=0.4.1->tensorboard<3,>=2.3.0->tensorflow<2.4,>=2.3->rasa) (3.1.0)\n",
            "Requirement already satisfied: immutables>=0.9 in /usr/local/lib/python3.6/dist-packages (from contextvars>=2.1; python_version < \"3.7\"->sniffio->httpx==0.15.4->sanic<21.0.0,>=19.12.2->rasa) (0.14)\n"
          ],
          "name": "stdout"
        }
      ]
    },
    {
      "cell_type": "code",
      "metadata": {
        "colab": {
          "base_uri": "https://localhost:8080/"
        },
        "id": "dLw1WMOjuGy2",
        "outputId": "c9bdf30e-d9e4-4a29-bb05-959b603d1878"
      },
      "source": [
        "import os\n",
        "os.chdir('/content/drive/MyDrive/limechat')\n",
        "!pwd\n"
      ],
      "execution_count": 120,
      "outputs": [
        {
          "output_type": "stream",
          "text": [
            "/content/drive/MyDrive/limechat\n"
          ],
          "name": "stdout"
        }
      ]
    },
    {
      "cell_type": "code",
      "metadata": {
        "colab": {
          "base_uri": "https://localhost:8080/"
        },
        "id": "FK6mnhqK82T8",
        "outputId": "e3621124-c105-4b92-d1c2-0aa37b21e2f3"
      },
      "source": [
        "!pip3 install rasa-x --extra-index-url https://pypi.rasa.com/simple"
      ],
      "execution_count": 116,
      "outputs": [
        {
          "output_type": "stream",
          "text": [
            "Looking in indexes: https://pypi.org/simple, https://pypi.rasa.com/simple\n",
            "Requirement already satisfied: rasa-x in /usr/local/lib/python3.6/dist-packages (0.33.2)\n",
            "Requirement already satisfied: python-dateutil<2.9,>=2.8 in /usr/local/lib/python3.6/dist-packages (from rasa-x) (2.8.1)\n",
            "Requirement already satisfied: questionary<1.6.0,>=1.5.1 in /usr/local/lib/python3.6/dist-packages (from rasa-x) (1.5.2)\n",
            "Requirement already satisfied: GitPython<4.0.0,>=3.1.3 in /usr/local/lib/python3.6/dist-packages (from rasa-x) (3.1.11)\n",
            "Requirement already satisfied: cryptography<3.0,>=2.7 in /usr/local/lib/python3.6/dist-packages (from rasa-x) (2.9.2)\n",
            "Requirement already satisfied: attrs<20.0,>=19.3 in /usr/local/lib/python3.6/dist-packages (from rasa-x) (19.3.0)\n",
            "Requirement already satisfied: setuptools>=41.0.0 in /usr/local/lib/python3.6/dist-packages (from rasa-x) (50.3.2)\n",
            "Requirement already satisfied: psycopg2-binary<3.0.0,>=2.8.2 in /usr/local/lib/python3.6/dist-packages (from rasa-x) (2.8.6)\n",
            "Requirement already satisfied: rasa==2.0.2 in /usr/local/lib/python3.6/dist-packages (from rasa-x) (2.0.2)\n",
            "Requirement already satisfied: jsonschema<4.0,>=3.2 in /usr/local/lib/python3.6/dist-packages (from rasa-x) (3.2.0)\n",
            "Requirement already satisfied: isodate<0.7,>=0.6 in /usr/local/lib/python3.6/dist-packages (from rasa-x) (0.6.0)\n",
            "Requirement already satisfied: sanic-cors<0.11.0,>=0.10.0b1 in /usr/local/lib/python3.6/dist-packages (from rasa-x) (0.10.0.post3)\n",
            "Requirement already satisfied: sanic-jwt<1.5.0,>=1.3.2 in /usr/local/lib/python3.6/dist-packages (from rasa-x) (1.4.1)\n",
            "Requirement already satisfied: apscheduler<4.0,>=3.6 in /usr/local/lib/python3.6/dist-packages (from rasa-x) (3.6.3)\n",
            "Requirement already satisfied: requests<3.0,>=2.23 in /usr/local/lib/python3.6/dist-packages (from rasa-x) (2.23.0)\n",
            "Requirement already satisfied: SQLAlchemy<2.0.0,>=1.3.19 in /usr/local/lib/python3.6/dist-packages (from rasa-x) (1.3.20)\n",
            "Requirement already satisfied: aiohttp<4.0,>=3.6 in /usr/local/lib/python3.6/dist-packages (from rasa-x) (3.6.3)\n",
            "Requirement already satisfied: ruamel.yaml<0.17,>=0.16 in /usr/local/lib/python3.6/dist-packages (from rasa-x) (0.16.12)\n",
            "Requirement already satisfied: sanic<21.0.0,>=19.12.2 in /usr/local/lib/python3.6/dist-packages (from rasa-x) (20.9.1)\n",
            "Requirement already satisfied: kafka-python<2.0,>=1.4 in /usr/local/lib/python3.6/dist-packages (from rasa-x) (1.4.7)\n",
            "Requirement already satisfied: ujson<2.0,>=1.35 in /usr/local/lib/python3.6/dist-packages (from rasa-x) (1.35)\n",
            "Requirement already satisfied: pika<2.0.0,>=1.1.0 in /usr/local/lib/python3.6/dist-packages (from rasa-x) (1.1.0)\n",
            "Requirement already satisfied: alembic<2.0.0,>=1.0.10 in /usr/local/lib/python3.6/dist-packages (from rasa-x) (1.4.3)\n",
            "Requirement already satisfied: six>=1.5 in /usr/local/lib/python3.6/dist-packages (from python-dateutil<2.9,>=2.8->rasa-x) (1.15.0)\n",
            "Requirement already satisfied: prompt-toolkit<4.0,>=2.0 in /usr/local/lib/python3.6/dist-packages (from questionary<1.6.0,>=1.5.1->rasa-x) (2.0.10)\n",
            "Requirement already satisfied: gitdb<5,>=4.0.1 in /usr/local/lib/python3.6/dist-packages (from GitPython<4.0.0,>=3.1.3->rasa-x) (4.0.5)\n",
            "Requirement already satisfied: cffi!=1.11.3,>=1.8 in /usr/local/lib/python3.6/dist-packages (from cryptography<3.0,>=2.7->rasa-x) (1.14.3)\n",
            "Requirement already satisfied: boto3<2.0,>=1.12 in /usr/local/lib/python3.6/dist-packages (from rasa==2.0.2->rasa-x) (1.16.24)\n",
            "Requirement already satisfied: pykwalify<1.8.0,>=1.7.0 in /usr/local/lib/python3.6/dist-packages (from rasa==2.0.2->rasa-x) (1.7.0)\n",
            "Requirement already satisfied: oauth2client==4.1.3 in /usr/local/lib/python3.6/dist-packages (from rasa==2.0.2->rasa-x) (4.1.3)\n",
            "Requirement already satisfied: tensorflow-probability<0.12,>=0.11 in /usr/local/lib/python3.6/dist-packages (from rasa==2.0.2->rasa-x) (0.11.0)\n",
            "Requirement already satisfied: cloudpickle<1.5,>=1.2 in /usr/local/lib/python3.6/dist-packages (from rasa==2.0.2->rasa-x) (1.3.0)\n",
            "Requirement already satisfied: python-telegram-bot<13.0,>=11.1 in /usr/local/lib/python3.6/dist-packages (from rasa==2.0.2->rasa-x) (12.8)\n",
            "Requirement already satisfied: tqdm<4.51,>=4.31 in /usr/local/lib/python3.6/dist-packages (from rasa==2.0.2->rasa-x) (4.41.1)\n",
            "Requirement already satisfied: colorhash<1.1.0,>=1.0.2 in /usr/local/lib/python3.6/dist-packages (from rasa==2.0.2->rasa-x) (1.0.2)\n",
            "Requirement already satisfied: pytz<2021.0,>=2019.1 in /usr/local/lib/python3.6/dist-packages (from rasa==2.0.2->rasa-x) (2020.4)\n",
            "Requirement already satisfied: scikit-learn<0.24,>=0.22 in /usr/local/lib/python3.6/dist-packages (from rasa==2.0.2->rasa-x) (0.22.2.post1)\n",
            "Requirement already satisfied: webexteamssdk<1.7.0,>=1.1.1 in /usr/local/lib/python3.6/dist-packages (from rasa==2.0.2->rasa-x) (1.6)\n",
            "Requirement already satisfied: pydot<1.5,>=1.4 in /usr/local/lib/python3.6/dist-packages (from rasa==2.0.2->rasa-x) (1.4.1)\n",
            "Requirement already satisfied: rasa-sdk<3.0.0,>=2.0.0 in /usr/local/lib/python3.6/dist-packages (from rasa==2.0.2->rasa-x) (2.1.2)\n",
            "Requirement already satisfied: tensorflow<2.4,>=2.3 in /usr/local/lib/python3.6/dist-packages (from rasa==2.0.2->rasa-x) (2.3.0)\n",
            "Requirement already satisfied: tensorflow_hub<0.10,>=0.9 in /usr/local/lib/python3.6/dist-packages (from rasa==2.0.2->rasa-x) (0.9.0)\n",
            "Requirement already satisfied: matplotlib<3.4,>=3.1 in /usr/local/lib/python3.6/dist-packages (from rasa==2.0.2->rasa-x) (3.2.2)\n",
            "Requirement already satisfied: joblib<0.16.0,>=0.15.1 in /usr/local/lib/python3.6/dist-packages (from rasa==2.0.2->rasa-x) (0.15.1)\n",
            "Requirement already satisfied: absl-py<0.11,>=0.9 in /usr/local/lib/python3.6/dist-packages (from rasa==2.0.2->rasa-x) (0.10.0)\n",
            "Requirement already satisfied: tensorflow-addons<=0.12,>=0.10 in /usr/local/lib/python3.6/dist-packages (from rasa==2.0.2->rasa-x) (0.11.2)\n",
            "Requirement already satisfied: python-engineio<3.14,>=3.11 in /usr/local/lib/python3.6/dist-packages (from rasa==2.0.2->rasa-x) (3.13.2)\n",
            "Requirement already satisfied: coloredlogs<15,>=10 in /usr/local/lib/python3.6/dist-packages (from rasa==2.0.2->rasa-x) (14.0)\n",
            "Requirement already satisfied: jsonpickle<1.5,>=1.3 in /usr/local/lib/python3.6/dist-packages (from rasa==2.0.2->rasa-x) (1.4.1)\n",
            "Requirement already satisfied: redis<4.0,>=3.4 in /usr/local/lib/python3.6/dist-packages (from rasa==2.0.2->rasa-x) (3.5.3)\n",
            "Requirement already satisfied: slackclient<3.0.0,>=2.0.0 in /usr/local/lib/python3.6/dist-packages (from rasa==2.0.2->rasa-x) (2.9.3)\n",
            "Requirement already satisfied: packaging<21.0,>=20.0 in /usr/local/lib/python3.6/dist-packages (from rasa==2.0.2->rasa-x) (20.4)\n",
            "Requirement already satisfied: scipy<2.0.0,>=1.4.1 in /usr/local/lib/python3.6/dist-packages (from rasa==2.0.2->rasa-x) (1.4.1)\n",
            "Requirement already satisfied: PyJWT<1.8,>=1.7 in /usr/local/lib/python3.6/dist-packages (from rasa==2.0.2->rasa-x) (1.7.1)\n",
            "Requirement already satisfied: multidict<5.0,>=4.6 in /usr/local/lib/python3.6/dist-packages (from rasa==2.0.2->rasa-x) (4.7.6)\n",
            "Requirement already satisfied: tensorflow-estimator<2.4,>=2.3 in /usr/local/lib/python3.6/dist-packages (from rasa==2.0.2->rasa-x) (2.3.0)\n",
            "Requirement already satisfied: pymongo[srv,tls]<3.11,>=3.8 in /usr/local/lib/python3.6/dist-packages (from rasa==2.0.2->rasa-x) (3.10.1)\n",
            "Requirement already satisfied: tensorflow-text<2.4,>=2.3; sys_platform != \"win32\" in /usr/local/lib/python3.6/dist-packages (from rasa==2.0.2->rasa-x) (2.3.0)\n",
            "Requirement already satisfied: rocketchat_API<1.10.0,>=0.6.31 in /usr/local/lib/python3.6/dist-packages (from rasa==2.0.2->rasa-x) (1.9.1)\n",
            "Requirement already satisfied: sentry-sdk<0.20.0,>=0.17.0 in /usr/local/lib/python3.6/dist-packages (from rasa==2.0.2->rasa-x) (0.19.4)\n",
            "Requirement already satisfied: terminaltables<3.2.0,>=3.1.0 in /usr/local/lib/python3.6/dist-packages (from rasa==2.0.2->rasa-x) (3.1.0)\n",
            "Requirement already satisfied: sklearn-crfsuite<0.4,>=0.3 in /usr/local/lib/python3.6/dist-packages (from rasa==2.0.2->rasa-x) (0.3.6)\n",
            "Requirement already satisfied: twilio<6.46,>=6.26 in /usr/local/lib/python3.6/dist-packages (from rasa==2.0.2->rasa-x) (6.45.4)\n",
            "Requirement already satisfied: numpy<2.0,>=1.16 in /usr/local/lib/python3.6/dist-packages (from rasa==2.0.2->rasa-x) (1.18.5)\n",
            "Requirement already satisfied: async_generator<1.11,>=1.10 in /usr/local/lib/python3.6/dist-packages (from rasa==2.0.2->rasa-x) (1.10)\n",
            "Requirement already satisfied: python-socketio<4.7,>=4.4 in /usr/local/lib/python3.6/dist-packages (from rasa==2.0.2->rasa-x) (4.6.0)\n",
            "Requirement already satisfied: colorclass<2.3,>=2.2 in /usr/local/lib/python3.6/dist-packages (from rasa==2.0.2->rasa-x) (2.2.0)\n",
            "Requirement already satisfied: networkx<2.6,>=2.4 in /usr/local/lib/python3.6/dist-packages (from rasa==2.0.2->rasa-x) (2.5)\n",
            "Requirement already satisfied: fbmessenger<6.1.0,>=6.0.0 in /usr/local/lib/python3.6/dist-packages (from rasa==2.0.2->rasa-x) (6.0.0)\n",
            "Requirement already satisfied: mattermostwrapper<2.3,>=2.2 in /usr/local/lib/python3.6/dist-packages (from rasa==2.0.2->rasa-x) (2.2)\n",
            "Requirement already satisfied: regex<2020.10,>=2020.6 in /usr/local/lib/python3.6/dist-packages (from rasa==2.0.2->rasa-x) (2020.9.27)\n",
            "Requirement already satisfied: pyrsistent>=0.14.0 in /usr/local/lib/python3.6/dist-packages (from jsonschema<4.0,>=3.2->rasa-x) (0.17.3)\n",
            "Requirement already satisfied: importlib-metadata; python_version < \"3.8\" in /usr/local/lib/python3.6/dist-packages (from jsonschema<4.0,>=3.2->rasa-x) (2.0.0)\n",
            "Requirement already satisfied: sanic-plugins-framework>=0.9.0 in /usr/local/lib/python3.6/dist-packages (from sanic-cors<0.11.0,>=0.10.0b1->rasa-x) (0.9.4.post1)\n",
            "Requirement already satisfied: tzlocal>=1.2 in /usr/local/lib/python3.6/dist-packages (from apscheduler<4.0,>=3.6->rasa-x) (1.5.1)\n",
            "Requirement already satisfied: certifi>=2017.4.17 in /usr/local/lib/python3.6/dist-packages (from requests<3.0,>=2.23->rasa-x) (2020.11.8)\n",
            "Requirement already satisfied: urllib3!=1.25.0,!=1.25.1,<1.26,>=1.21.1 in /usr/local/lib/python3.6/dist-packages (from requests<3.0,>=2.23->rasa-x) (1.24.3)\n",
            "Requirement already satisfied: chardet<4,>=3.0.2 in /usr/local/lib/python3.6/dist-packages (from requests<3.0,>=2.23->rasa-x) (3.0.4)\n",
            "Requirement already satisfied: idna<3,>=2.5 in /usr/local/lib/python3.6/dist-packages (from requests<3.0,>=2.23->rasa-x) (2.10)\n",
            "Requirement already satisfied: async-timeout<4.0,>=3.0 in /usr/local/lib/python3.6/dist-packages (from aiohttp<4.0,>=3.6->rasa-x) (3.0.1)\n",
            "Requirement already satisfied: yarl<1.6.0,>=1.0 in /usr/local/lib/python3.6/dist-packages (from aiohttp<4.0,>=3.6->rasa-x) (1.5.1)\n",
            "Requirement already satisfied: idna-ssl>=1.0; python_version < \"3.7\" in /usr/local/lib/python3.6/dist-packages (from aiohttp<4.0,>=3.6->rasa-x) (1.1.0)\n",
            "Requirement already satisfied: typing-extensions>=3.6.5; python_version < \"3.7\" in /usr/local/lib/python3.6/dist-packages (from aiohttp<4.0,>=3.6->rasa-x) (3.7.4.3)\n",
            "Requirement already satisfied: ruamel.yaml.clib>=0.1.2; platform_python_implementation == \"CPython\" and python_version < \"3.9\" in /usr/local/lib/python3.6/dist-packages (from ruamel.yaml<0.17,>=0.16->rasa-x) (0.2.2)\n",
            "Requirement already satisfied: aiofiles>=0.3.0 in /usr/local/lib/python3.6/dist-packages (from sanic<21.0.0,>=19.12.2->rasa-x) (0.6.0)\n",
            "Requirement already satisfied: websockets<9.0,>=8.1 in /usr/local/lib/python3.6/dist-packages (from sanic<21.0.0,>=19.12.2->rasa-x) (8.1)\n",
            "Requirement already satisfied: httptools>=0.0.10 in /usr/local/lib/python3.6/dist-packages (from sanic<21.0.0,>=19.12.2->rasa-x) (0.1.1)\n",
            "Requirement already satisfied: uvloop>=0.5.3; sys_platform != \"win32\" and implementation_name == \"cpython\" in /usr/local/lib/python3.6/dist-packages (from sanic<21.0.0,>=19.12.2->rasa-x) (0.14.0)\n",
            "Requirement already satisfied: httpx==0.15.4 in /usr/local/lib/python3.6/dist-packages (from sanic<21.0.0,>=19.12.2->rasa-x) (0.15.4)\n",
            "Requirement already satisfied: Mako in /usr/local/lib/python3.6/dist-packages (from alembic<2.0.0,>=1.0.10->rasa-x) (1.1.3)\n",
            "Requirement already satisfied: python-editor>=0.3 in /usr/local/lib/python3.6/dist-packages (from alembic<2.0.0,>=1.0.10->rasa-x) (1.0.4)\n",
            "Requirement already satisfied: wcwidth in /usr/local/lib/python3.6/dist-packages (from prompt-toolkit<4.0,>=2.0->questionary<1.6.0,>=1.5.1->rasa-x) (0.2.5)\n",
            "Requirement already satisfied: smmap<4,>=3.0.1 in /usr/local/lib/python3.6/dist-packages (from gitdb<5,>=4.0.1->GitPython<4.0.0,>=3.1.3->rasa-x) (3.0.4)\n",
            "Requirement already satisfied: pycparser in /usr/local/lib/python3.6/dist-packages (from cffi!=1.11.3,>=1.8->cryptography<3.0,>=2.7->rasa-x) (2.20)\n",
            "Requirement already satisfied: s3transfer<0.4.0,>=0.3.0 in /usr/local/lib/python3.6/dist-packages (from boto3<2.0,>=1.12->rasa==2.0.2->rasa-x) (0.3.3)\n",
            "Requirement already satisfied: botocore<1.20.0,>=1.19.24 in /usr/local/lib/python3.6/dist-packages (from boto3<2.0,>=1.12->rasa==2.0.2->rasa-x) (1.19.24)\n",
            "Requirement already satisfied: jmespath<1.0.0,>=0.7.1 in /usr/local/lib/python3.6/dist-packages (from boto3<2.0,>=1.12->rasa==2.0.2->rasa-x) (0.10.0)\n",
            "Requirement already satisfied: docopt>=0.6.2 in /usr/local/lib/python3.6/dist-packages (from pykwalify<1.8.0,>=1.7.0->rasa==2.0.2->rasa-x) (0.6.2)\n",
            "Requirement already satisfied: PyYAML>=3.11 in /usr/local/lib/python3.6/dist-packages (from pykwalify<1.8.0,>=1.7.0->rasa==2.0.2->rasa-x) (3.13)\n",
            "Requirement already satisfied: pyasn1-modules>=0.0.5 in /usr/local/lib/python3.6/dist-packages (from oauth2client==4.1.3->rasa==2.0.2->rasa-x) (0.2.8)\n",
            "Requirement already satisfied: httplib2>=0.9.1 in /usr/local/lib/python3.6/dist-packages (from oauth2client==4.1.3->rasa==2.0.2->rasa-x) (0.17.4)\n",
            "Requirement already satisfied: pyasn1>=0.1.7 in /usr/local/lib/python3.6/dist-packages (from oauth2client==4.1.3->rasa==2.0.2->rasa-x) (0.4.8)\n",
            "Requirement already satisfied: rsa>=3.1.4 in /usr/local/lib/python3.6/dist-packages (from oauth2client==4.1.3->rasa==2.0.2->rasa-x) (4.6)\n",
            "Requirement already satisfied: dm-tree in /usr/local/lib/python3.6/dist-packages (from tensorflow-probability<0.12,>=0.11->rasa==2.0.2->rasa-x) (0.1.5)\n",
            "Requirement already satisfied: decorator in /usr/local/lib/python3.6/dist-packages (from tensorflow-probability<0.12,>=0.11->rasa==2.0.2->rasa-x) (4.4.2)\n",
            "Requirement already satisfied: gast>=0.3.2 in /usr/local/lib/python3.6/dist-packages (from tensorflow-probability<0.12,>=0.11->rasa==2.0.2->rasa-x) (0.3.3)\n",
            "Requirement already satisfied: tornado>=5.1 in /usr/local/lib/python3.6/dist-packages (from python-telegram-bot<13.0,>=11.1->rasa==2.0.2->rasa-x) (5.1.1)\n",
            "Requirement already satisfied: future in /usr/local/lib/python3.6/dist-packages (from webexteamssdk<1.7.0,>=1.1.1->rasa==2.0.2->rasa-x) (0.16.0)\n",
            "Requirement already satisfied: requests-toolbelt in /usr/local/lib/python3.6/dist-packages (from webexteamssdk<1.7.0,>=1.1.1->rasa==2.0.2->rasa-x) (0.9.1)\n",
            "Requirement already satisfied: pyparsing>=2.1.4 in /usr/local/lib/python3.6/dist-packages (from pydot<1.5,>=1.4->rasa==2.0.2->rasa-x) (2.4.7)\n",
            "Requirement already satisfied: tensorboard<3,>=2.3.0 in /usr/local/lib/python3.6/dist-packages (from tensorflow<2.4,>=2.3->rasa==2.0.2->rasa-x) (2.3.0)\n",
            "Requirement already satisfied: opt-einsum>=2.3.2 in /usr/local/lib/python3.6/dist-packages (from tensorflow<2.4,>=2.3->rasa==2.0.2->rasa-x) (3.3.0)\n",
            "Requirement already satisfied: astunparse==1.6.3 in /usr/local/lib/python3.6/dist-packages (from tensorflow<2.4,>=2.3->rasa==2.0.2->rasa-x) (1.6.3)\n",
            "Requirement already satisfied: grpcio>=1.8.6 in /usr/local/lib/python3.6/dist-packages (from tensorflow<2.4,>=2.3->rasa==2.0.2->rasa-x) (1.33.2)\n",
            "Requirement already satisfied: wrapt>=1.11.1 in /usr/local/lib/python3.6/dist-packages (from tensorflow<2.4,>=2.3->rasa==2.0.2->rasa-x) (1.12.1)\n",
            "Requirement already satisfied: h5py<2.11.0,>=2.10.0 in /usr/local/lib/python3.6/dist-packages (from tensorflow<2.4,>=2.3->rasa==2.0.2->rasa-x) (2.10.0)\n",
            "Requirement already satisfied: google-pasta>=0.1.8 in /usr/local/lib/python3.6/dist-packages (from tensorflow<2.4,>=2.3->rasa==2.0.2->rasa-x) (0.2.0)\n",
            "Requirement already satisfied: termcolor>=1.1.0 in /usr/local/lib/python3.6/dist-packages (from tensorflow<2.4,>=2.3->rasa==2.0.2->rasa-x) (1.1.0)\n",
            "Requirement already satisfied: wheel>=0.26 in /usr/local/lib/python3.6/dist-packages (from tensorflow<2.4,>=2.3->rasa==2.0.2->rasa-x) (0.35.1)\n",
            "Requirement already satisfied: keras-preprocessing<1.2,>=1.1.1 in /usr/local/lib/python3.6/dist-packages (from tensorflow<2.4,>=2.3->rasa==2.0.2->rasa-x) (1.1.2)\n",
            "Requirement already satisfied: protobuf>=3.9.2 in /usr/local/lib/python3.6/dist-packages (from tensorflow<2.4,>=2.3->rasa==2.0.2->rasa-x) (3.12.4)\n",
            "Requirement already satisfied: cycler>=0.10 in /usr/local/lib/python3.6/dist-packages (from matplotlib<3.4,>=3.1->rasa==2.0.2->rasa-x) (0.10.0)\n",
            "Requirement already satisfied: kiwisolver>=1.0.1 in /usr/local/lib/python3.6/dist-packages (from matplotlib<3.4,>=3.1->rasa==2.0.2->rasa-x) (1.3.1)\n",
            "Requirement already satisfied: typeguard>=2.7 in /usr/local/lib/python3.6/dist-packages (from tensorflow-addons<=0.12,>=0.10->rasa==2.0.2->rasa-x) (2.7.1)\n",
            "Requirement already satisfied: humanfriendly>=7.1 in /usr/local/lib/python3.6/dist-packages (from coloredlogs<15,>=10->rasa==2.0.2->rasa-x) (8.2)\n",
            "Requirement already satisfied: dnspython<2.0.0,>=1.16.0; extra == \"srv\" in /usr/local/lib/python3.6/dist-packages (from pymongo[srv,tls]<3.11,>=3.8->rasa==2.0.2->rasa-x) (1.16.0)\n",
            "Requirement already satisfied: python-crfsuite>=0.8.3 in /usr/local/lib/python3.6/dist-packages (from sklearn-crfsuite<0.4,>=0.3->rasa==2.0.2->rasa-x) (0.9.7)\n",
            "Requirement already satisfied: tabulate in /usr/local/lib/python3.6/dist-packages (from sklearn-crfsuite<0.4,>=0.3->rasa==2.0.2->rasa-x) (0.8.7)\n",
            "Requirement already satisfied: zipp>=0.5 in /usr/local/lib/python3.6/dist-packages (from importlib-metadata; python_version < \"3.8\"->jsonschema<4.0,>=3.2->rasa-x) (3.4.0)\n",
            "Requirement already satisfied: sniffio in /usr/local/lib/python3.6/dist-packages (from httpx==0.15.4->sanic<21.0.0,>=19.12.2->rasa-x) (1.2.0)\n",
            "Requirement already satisfied: httpcore==0.11.* in /usr/local/lib/python3.6/dist-packages (from httpx==0.15.4->sanic<21.0.0,>=19.12.2->rasa-x) (0.11.1)\n",
            "Requirement already satisfied: rfc3986[idna2008]<2,>=1.3 in /usr/local/lib/python3.6/dist-packages (from httpx==0.15.4->sanic<21.0.0,>=19.12.2->rasa-x) (1.4.0)\n",
            "Requirement already satisfied: MarkupSafe>=0.9.2 in /usr/local/lib/python3.6/dist-packages (from Mako->alembic<2.0.0,>=1.0.10->rasa-x) (1.1.1)\n",
            "Requirement already satisfied: werkzeug>=0.11.15 in /usr/local/lib/python3.6/dist-packages (from tensorboard<3,>=2.3.0->tensorflow<2.4,>=2.3->rasa==2.0.2->rasa-x) (1.0.1)\n",
            "Requirement already satisfied: tensorboard-plugin-wit>=1.6.0 in /usr/local/lib/python3.6/dist-packages (from tensorboard<3,>=2.3.0->tensorflow<2.4,>=2.3->rasa==2.0.2->rasa-x) (1.7.0)\n",
            "Requirement already satisfied: google-auth<2,>=1.6.3 in /usr/local/lib/python3.6/dist-packages (from tensorboard<3,>=2.3.0->tensorflow<2.4,>=2.3->rasa==2.0.2->rasa-x) (1.17.2)\n",
            "Requirement already satisfied: google-auth-oauthlib<0.5,>=0.4.1 in /usr/local/lib/python3.6/dist-packages (from tensorboard<3,>=2.3.0->tensorflow<2.4,>=2.3->rasa==2.0.2->rasa-x) (0.4.2)\n",
            "Requirement already satisfied: markdown>=2.6.8 in /usr/local/lib/python3.6/dist-packages (from tensorboard<3,>=2.3.0->tensorflow<2.4,>=2.3->rasa==2.0.2->rasa-x) (3.3.3)\n",
            "Requirement already satisfied: contextvars>=2.1; python_version < \"3.7\" in /usr/local/lib/python3.6/dist-packages (from sniffio->httpx==0.15.4->sanic<21.0.0,>=19.12.2->rasa-x) (2.4)\n",
            "Requirement already satisfied: h11<0.10,>=0.8 in /usr/local/lib/python3.6/dist-packages (from httpcore==0.11.*->httpx==0.15.4->sanic<21.0.0,>=19.12.2->rasa-x) (0.9.0)\n",
            "Requirement already satisfied: cachetools<5.0,>=2.0.0 in /usr/local/lib/python3.6/dist-packages (from google-auth<2,>=1.6.3->tensorboard<3,>=2.3.0->tensorflow<2.4,>=2.3->rasa==2.0.2->rasa-x) (4.1.1)\n",
            "Requirement already satisfied: requests-oauthlib>=0.7.0 in /usr/local/lib/python3.6/dist-packages (from google-auth-oauthlib<0.5,>=0.4.1->tensorboard<3,>=2.3.0->tensorflow<2.4,>=2.3->rasa==2.0.2->rasa-x) (1.3.0)\n",
            "Requirement already satisfied: immutables>=0.9 in /usr/local/lib/python3.6/dist-packages (from contextvars>=2.1; python_version < \"3.7\"->sniffio->httpx==0.15.4->sanic<21.0.0,>=19.12.2->rasa-x) (0.14)\n",
            "Requirement already satisfied: oauthlib>=3.0.0 in /usr/local/lib/python3.6/dist-packages (from requests-oauthlib>=0.7.0->google-auth-oauthlib<0.5,>=0.4.1->tensorboard<3,>=2.3.0->tensorflow<2.4,>=2.3->rasa==2.0.2->rasa-x) (3.1.0)\n"
          ],
          "name": "stdout"
        }
      ]
    },
    {
      "cell_type": "code",
      "metadata": {
        "colab": {
          "base_uri": "https://localhost:8080/"
        },
        "id": "QUT1RXOqQzI2",
        "outputId": "9516069c-0cbd-4940-9904-61bb3f000dd2"
      },
      "source": [
        "!rasa init\n"
      ],
      "execution_count": 117,
      "outputs": [
        {
          "output_type": "stream",
          "text": [
            "2020-11-24 12:38:41.283156: E tensorflow/stream_executor/cuda/cuda_driver.cc:314] failed call to cuInit: CUDA_ERROR_NO_DEVICE: no CUDA-capable device is detected\n",
            "\u001b[92mWelcome to Rasa! 🤖\n",
            "\u001b[0m\n",
            "To get started quickly, an initial project will be created.\n",
            "If you need some help, check out the documentation at https://rasa.com/docs/rasa.\n",
            "Now let's start! 👇🏽\n",
            "\n",
            "\u001b[79Ct\u001b[0m\n",
            "\u001b[5C\u001b[?7h\u001b[0m\u001b[?12l\u001b[?25h\u001b[5D\u001b[A\u001b[J\u001b[0m\u001b[?7h\u001b[?2004l\u001b[?1lWARNING: your terminal doesn't support cursor position requests (CPR).\n",
            "\u001b[79Ct\u001b[0m\n",
            "\u001b[79Ct\u001b[0m\n",
            "\u001b[0m\n",
            "\u001b[56C\u001b[?7h\u001b[0m\u001b[?12l\u001b[?25h\u001b[56D\u001b[J\u001b[0m\u001b[?7h\u001b[?2004l\u001b[?1lWARNING: your terminal doesn't support cursor position requests (CPR).\n",
            "\u001b[0m\n",
            "\u001b[J\u001b[?7h\u001b[0m\u001b[?12l\u001b[?25h\u001b[?2004lCreated project directory at '/content/drive/My Drive/limechat'.\n",
            "\u001b[92mFinished creating project structure.\u001b[0m\n",
            "\u001b[52C\u001b[?7h\u001b[0m\u001b[?12l\u001b[?25h\u001b[52D\u001b[J\u001b[0m\u001b[?7h\u001b[?2004l\u001b[?1lWARNING: your terminal doesn't support cursor position requests (CPR).\n",
            "\u001b[0m\n",
            "\u001b[J\u001b[?7h\u001b[0m\u001b[?12l\u001b[?25h\u001b[?2004l\u001b[92mTraining an initial model...\u001b[0m\n",
            "\u001b[94mThe configuration for pipeline and policies was chosen automatically. It was written into the config file at 'limechat/config.yml'.\u001b[0m\n",
            "\u001b[94mTraining NLU model...\u001b[0m\n",
            "2020-11-24 12:39:17 \u001b[1;30mINFO    \u001b[0m \u001b[34mrasa.shared.nlu.training_data.training_data\u001b[0m  - Training data stats:\n",
            "2020-11-24 12:39:17 \u001b[1;30mINFO    \u001b[0m \u001b[34mrasa.shared.nlu.training_data.training_data\u001b[0m  - Number of intent examples: 69 (7 distinct intents)\n",
            "\n",
            "2020-11-24 12:39:17 \u001b[1;30mINFO    \u001b[0m \u001b[34mrasa.shared.nlu.training_data.training_data\u001b[0m  -   Found intents: 'affirm', 'bot_challenge', 'deny', 'mood_great', 'greet', 'mood_unhappy', 'goodbye'\n",
            "2020-11-24 12:39:17 \u001b[1;30mINFO    \u001b[0m \u001b[34mrasa.shared.nlu.training_data.training_data\u001b[0m  - Number of response examples: 0 (0 distinct responses)\n",
            "2020-11-24 12:39:17 \u001b[1;30mINFO    \u001b[0m \u001b[34mrasa.shared.nlu.training_data.training_data\u001b[0m  - Number of entity examples: 0 (0 distinct entities)\n",
            "2020-11-24 12:39:17 \u001b[1;30mINFO    \u001b[0m \u001b[34mrasa.nlu.model\u001b[0m  - Starting to train component WhitespaceTokenizer\n",
            "2020-11-24 12:39:17 \u001b[1;30mINFO    \u001b[0m \u001b[34mrasa.nlu.model\u001b[0m  - Finished training component.\n",
            "2020-11-24 12:39:17 \u001b[1;30mINFO    \u001b[0m \u001b[34mrasa.nlu.model\u001b[0m  - Starting to train component RegexFeaturizer\n",
            "2020-11-24 12:39:17 \u001b[1;30mINFO    \u001b[0m \u001b[34mrasa.nlu.model\u001b[0m  - Finished training component.\n",
            "2020-11-24 12:39:17 \u001b[1;30mINFO    \u001b[0m \u001b[34mrasa.nlu.model\u001b[0m  - Starting to train component LexicalSyntacticFeaturizer\n",
            "2020-11-24 12:39:17 \u001b[1;30mINFO    \u001b[0m \u001b[34mrasa.nlu.model\u001b[0m  - Finished training component.\n",
            "2020-11-24 12:39:17 \u001b[1;30mINFO    \u001b[0m \u001b[34mrasa.nlu.model\u001b[0m  - Starting to train component CountVectorsFeaturizer\n",
            "2020-11-24 12:39:17 \u001b[1;30mINFO    \u001b[0m \u001b[34mrasa.nlu.model\u001b[0m  - Finished training component.\n",
            "2020-11-24 12:39:17 \u001b[1;30mINFO    \u001b[0m \u001b[34mrasa.nlu.model\u001b[0m  - Starting to train component CountVectorsFeaturizer\n",
            "2020-11-24 12:39:17 \u001b[1;30mINFO    \u001b[0m \u001b[34mrasa.nlu.model\u001b[0m  - Finished training component.\n",
            "2020-11-24 12:39:17 \u001b[1;30mINFO    \u001b[0m \u001b[34mrasa.nlu.model\u001b[0m  - Starting to train component DIETClassifier\n",
            "Epochs: 100% 100/100 [00:25<00:00,  3.96it/s, t_loss=1.282, i_acc=0.971]\n",
            "2020-11-24 12:39:53 \u001b[1;30mINFO    \u001b[0m \u001b[34mrasa.utils.tensorflow.models\u001b[0m  - Finished training.\n",
            "2020-11-24 12:39:53 \u001b[1;30mINFO    \u001b[0m \u001b[34mrasa.nlu.model\u001b[0m  - Finished training component.\n",
            "2020-11-24 12:39:53 \u001b[1;30mINFO    \u001b[0m \u001b[34mrasa.nlu.model\u001b[0m  - Starting to train component EntitySynonymMapper\n",
            "2020-11-24 12:39:53 \u001b[1;30mINFO    \u001b[0m \u001b[34mrasa.nlu.model\u001b[0m  - Finished training component.\n",
            "2020-11-24 12:39:53 \u001b[1;30mINFO    \u001b[0m \u001b[34mrasa.nlu.model\u001b[0m  - Starting to train component ResponseSelector\n",
            "2020-11-24 12:39:53 \u001b[1;30mINFO    \u001b[0m \u001b[34mrasa.nlu.selectors.response_selector\u001b[0m  - Retrieval intent parameter was left to its default value. This response selector will be trained on training examples combining all retrieval intents.\n",
            "2020-11-24 12:39:53 \u001b[1;30mINFO    \u001b[0m \u001b[34mrasa.nlu.model\u001b[0m  - Finished training component.\n",
            "2020-11-24 12:39:53 \u001b[1;30mINFO    \u001b[0m \u001b[34mrasa.nlu.model\u001b[0m  - Starting to train component FallbackClassifier\n",
            "2020-11-24 12:39:53 \u001b[1;30mINFO    \u001b[0m \u001b[34mrasa.nlu.model\u001b[0m  - Finished training component.\n",
            "2020-11-24 12:39:53 \u001b[1;30mINFO    \u001b[0m \u001b[34mrasa.nlu.model\u001b[0m  - Successfully saved model into '/tmp/tmphlhlvcz_/nlu'\n",
            "\u001b[94mNLU model training completed.\u001b[0m\n",
            "\u001b[94mTraining Core model...\u001b[0m\n",
            "Processed story blocks: 100% 3/3 [00:00<00:00, 2546.12it/s, # trackers=1]\n",
            "Processed story blocks: 100% 3/3 [00:00<00:00, 1218.21it/s, # trackers=3]\n",
            "Processed story blocks: 100% 3/3 [00:00<00:00, 347.51it/s, # trackers=12]\n",
            "Processed story blocks: 100% 3/3 [00:00<00:00, 78.13it/s, # trackers=39]\n",
            "Processed rules: 100% 2/2 [00:00<00:00, 3019.66it/s, # trackers=1]\n",
            "Processed trackers: 100% 3/3 [00:00<00:00, 1491.93it/s, # actions=12]\n",
            "Processed actions: 12it [00:00, 4453.73it/s, # examples=12]\n",
            "Processed trackers: 100% 120/120 [00:00<00:00, 134.02it/s, # actions=30]\n",
            "Epochs: 100% 100/100 [00:07<00:00, 12.94it/s, t_loss=11.233, loss=11.061, acc=0.967]\n",
            "2020-11-24 12:40:12 \u001b[1;30mINFO    \u001b[0m \u001b[34mrasa.utils.tensorflow.models\u001b[0m  - Finished training.\n",
            "Processed trackers: 100% 2/2 [00:00<00:00, 2563.76it/s, # actions=5]\n",
            "Processed actions: 5it [00:00, 11037.64it/s, # examples=4]\n",
            "Processed trackers: 100% 3/3 [00:00<00:00, 1569.72it/s, # actions=12]\n",
            "Processed trackers: 100% 2/2 [00:00<00:00, 1639.36it/s]\n",
            "Processed trackers: 100% 5/5 [00:00<00:00, 920.25it/s]\n",
            "2020-11-24 12:40:12 \u001b[1;30mINFO    \u001b[0m \u001b[34mrasa.core.agent\u001b[0m  - Persisted model to '/tmp/tmphlhlvcz_/core'\n",
            "\u001b[94mCore model training completed.\u001b[0m\n",
            "\u001b[92mYour Rasa model is trained and saved at '/content/drive/My Drive/limechat/models/20201124-123915.tar.gz'.\u001b[0m\n",
            "\u001b[78C\u001b[?7h\u001b[0m\u001b[?12l\u001b[?25h\u001b[78D\u001b[J\u001b[0m\u001b[?7h\u001b[?2004l\u001b[?1lWARNING: your terminal doesn't support cursor position requests (CPR).\n",
            "\u001b[0m\n",
            "\u001b[J\u001b[?7h\u001b[0m\u001b[?12l\u001b[?25h\u001b[?2004l2020-11-24 12:42:15 \u001b[1;30mINFO    \u001b[0m \u001b[34mroot\u001b[0m  - Starting Rasa server on http://localhost:5005\n",
            "2020-11-24 12:42:20 \u001b[1;30mINFO    \u001b[0m \u001b[34mroot\u001b[0m  - Rasa server is up and running.\n",
            "\u001b[92mBot loaded. Type a message and press enter (use '/stop' to exit): \u001b[0m\n",
            "\u001b[15C\u001b[?7h\u001b[0m\u001b[?12l\u001b[?25h\u001b[15D\u001b[J\u001b[0m\u001b[?7h\u001b[?2004l\u001b[?1lWARNING: your terminal doesn't support cursor position requests (CPR).\n",
            "\u001b[0m\n",
            "\u001b[J\u001b[?7h\u001b[0m\u001b[?12l\u001b[?25h\u001b[?2004l\u001b[94mHey! How are you?\u001b[0m\n",
            "\u001b[15C\u001b[?7h\u001b[0m\u001b[?12l\u001b[?25h\u001b[15D\u001b[J\u001b[0m\u001b[?7h\u001b[?2004l\u001b[?1lWARNING: your terminal doesn't support cursor position requests (CPR).\n",
            "\u001b[0m\n",
            "\u001b[J\u001b[?7h\u001b[0m\u001b[?12l\u001b[?25h\u001b[?2004l\u001b[94mI am a bot, powered by Rasa.\u001b[0m\n",
            "\u001b[15C\u001b[?7h\u001b[0m\u001b[?12l\u001b[?25h\u001b[15D\u001b[J\u001b[0m\u001b[?7h\u001b[?2004l\u001b[?1lWARNING: your terminal doesn't support cursor position requests (CPR).\n",
            "\u001b[0m\n",
            "\u001b[J\u001b[?7h\u001b[0m\u001b[?12l\u001b[?25h\u001b[?2004l\u001b[94mBye\u001b[0m\n",
            "\u001b[15C\u001b[?7h\u001b[0m\u001b[?12l\u001b[?25h\u001b[15D\u001b[J\u001b[0m\u001b[?7h\u001b[?2004l\u001b[?1lWARNING: your terminal doesn't support cursor position requests (CPR).\n",
            "\u001b[15C\u001b[?7h\u001b[0m\u001b[?12l\u001b[?25h^C\n"
          ],
          "name": "stdout"
        }
      ]
    },
    {
      "cell_type": "code",
      "metadata": {
        "colab": {
          "base_uri": "https://localhost:8080/"
        },
        "id": "qRuwsyFO8U1c",
        "outputId": "39669510-cbe5-43b3-d335-67a46abe0372"
      },
      "source": [
        "\n",
        "!rasa train"
      ],
      "execution_count": 121,
      "outputs": [
        {
          "output_type": "stream",
          "text": [
            "2020-11-24 12:44:24.426357: E tensorflow/stream_executor/cuda/cuda_driver.cc:314] failed call to cuInit: CUDA_ERROR_NO_DEVICE: no CUDA-capable device is detected\n",
            "\u001b[94mThe configuration for policies and pipeline was chosen automatically. It was written into the config file at 'config.yml'.\u001b[0m\n",
            "\u001b[93m/usr/local/lib/python3.6/dist-packages/rasa/shared/utils/io.py:93: UserWarning: Issue found in 'data/rules.yml': \n",
            "Found intent 'faq_checkin' in stories which is not part of the domain.\n",
            "  More info at https://rasa.com/docs/rasa/stories\n",
            "\u001b[0m\u001b[93m/usr/local/lib/python3.6/dist-packages/rasa/shared/utils/io.py:93: UserWarning: Issue found in 'data/rules.yml': \n",
            "Found intent 'faq_checkout' in stories which is not part of the domain.\n",
            "  More info at https://rasa.com/docs/rasa/stories\n",
            "\u001b[0m\u001b[93m/usr/local/lib/python3.6/dist-packages/rasa/shared/utils/io.py:93: UserWarning: Issue found while processing 'data/nlu.yml': Intent 'book_simple' has no examples.\n",
            "  More info at https://rasa.com/docs/rasa/training-data-format\n",
            "\u001b[0m\u001b[93m/usr/local/lib/python3.6/dist-packages/rasa/shared/utils/io.py:93: UserWarning: Issue found while processing 'data/nlu.yml': Intent 'book_deluxe' has no examples.\n",
            "  More info at https://rasa.com/docs/rasa/training-data-format\n",
            "\u001b[0m\u001b[93m/usr/local/lib/python3.6/dist-packages/rasa/shared/utils/io.py:93: UserWarning: Issue found while processing 'data/nlu.yml': The item 'faq_checkout' contains an example that doesn't start with a '-' symbol: \n",
            "This training example will be skipped.\n",
            "  More info at https://rasa.com/docs/rasa/training-data-format\n",
            "\u001b[0m\u001b[93m/usr/local/lib/python3.6/dist-packages/rasa/shared/utils/io.py:93: UserWarning: Issue found while processing 'data/nlu.yml': The item 'faq_checkout' contains an example that doesn't start with a '-' symbol:  \n",
            "This training example will be skipped.\n",
            "  More info at https://rasa.com/docs/rasa/training-data-format\n",
            "\u001b[0m2020-11-24 12:44:25 \u001b[1;30mINFO    \u001b[0m \u001b[34mrasa.model\u001b[0m  - Data (domain) for Core model section changed.\n",
            "2020-11-24 12:44:25 \u001b[1;30mINFO    \u001b[0m \u001b[34mrasa.model\u001b[0m  - Data (messages) for NLU model section changed.\n",
            "2020-11-24 12:44:25 \u001b[1;30mINFO    \u001b[0m \u001b[34mrasa.model\u001b[0m  - Data (nlg) for NLG templates section changed.\n",
            "\u001b[94mTraining NLU model...\u001b[0m\n",
            "2020-11-24 12:44:26 \u001b[1;30mINFO    \u001b[0m \u001b[34mrasa.shared.nlu.training_data.training_data\u001b[0m  - Training data stats:\n",
            "2020-11-24 12:44:26 \u001b[1;30mINFO    \u001b[0m \u001b[34mrasa.shared.nlu.training_data.training_data\u001b[0m  - Number of intent examples: 55 (11 distinct intents)\n",
            "\n",
            "2020-11-24 12:44:26 \u001b[1;30mINFO    \u001b[0m \u001b[34mrasa.shared.nlu.training_data.training_data\u001b[0m  -   Found intents: 'greet', 'faq_checkout', 'faq_checkin', 'clean_now', 'book', 'book_simple', 'clean_room', 'book_by_number', 'book_deluxe', 'number_of_rooms', 'clean_later'\n",
            "2020-11-24 12:44:26 \u001b[1;30mINFO    \u001b[0m \u001b[34mrasa.shared.nlu.training_data.training_data\u001b[0m  - Number of response examples: 0 (0 distinct responses)\n",
            "2020-11-24 12:44:26 \u001b[1;30mINFO    \u001b[0m \u001b[34mrasa.shared.nlu.training_data.training_data\u001b[0m  - Number of entity examples: 1 (1 distinct entities)\n",
            "2020-11-24 12:44:26 \u001b[1;30mINFO    \u001b[0m \u001b[34mrasa.shared.nlu.training_data.training_data\u001b[0m  -   Found entity types: 'number_of_rooms'\n",
            "\u001b[93m/usr/local/lib/python3.6/dist-packages/rasa/shared/utils/io.py:93: UserWarning: Intent 'book_deluxe' has only 1 training examples! Minimum is 2, training may fail.\n",
            "\u001b[0m\u001b[93m/usr/local/lib/python3.6/dist-packages/rasa/shared/utils/io.py:93: UserWarning: Intent 'book_simple' has only 1 training examples! Minimum is 2, training may fail.\n",
            "\u001b[0m\u001b[93m/usr/local/lib/python3.6/dist-packages/rasa/shared/utils/io.py:93: UserWarning: Entity entity 'number_of_rooms' has only 1 training examples! The minimum is 2, because of this the training may fail.\n",
            "\u001b[0m2020-11-24 12:44:26 \u001b[1;30mINFO    \u001b[0m \u001b[34mrasa.nlu.model\u001b[0m  - Starting to train component WhitespaceTokenizer\n",
            "2020-11-24 12:44:26 \u001b[1;30mINFO    \u001b[0m \u001b[34mrasa.nlu.model\u001b[0m  - Finished training component.\n",
            "2020-11-24 12:44:26 \u001b[1;30mINFO    \u001b[0m \u001b[34mrasa.nlu.model\u001b[0m  - Starting to train component RegexFeaturizer\n",
            "2020-11-24 12:44:26 \u001b[1;30mINFO    \u001b[0m \u001b[34mrasa.nlu.model\u001b[0m  - Finished training component.\n",
            "2020-11-24 12:44:26 \u001b[1;30mINFO    \u001b[0m \u001b[34mrasa.nlu.model\u001b[0m  - Starting to train component LexicalSyntacticFeaturizer\n",
            "2020-11-24 12:44:26 \u001b[1;30mINFO    \u001b[0m \u001b[34mrasa.nlu.model\u001b[0m  - Finished training component.\n",
            "2020-11-24 12:44:26 \u001b[1;30mINFO    \u001b[0m \u001b[34mrasa.nlu.model\u001b[0m  - Starting to train component CountVectorsFeaturizer\n",
            "2020-11-24 12:44:26 \u001b[1;30mINFO    \u001b[0m \u001b[34mrasa.nlu.model\u001b[0m  - Finished training component.\n",
            "2020-11-24 12:44:26 \u001b[1;30mINFO    \u001b[0m \u001b[34mrasa.nlu.model\u001b[0m  - Starting to train component CountVectorsFeaturizer\n",
            "2020-11-24 12:44:26 \u001b[1;30mINFO    \u001b[0m \u001b[34mrasa.nlu.model\u001b[0m  - Finished training component.\n",
            "2020-11-24 12:44:26 \u001b[1;30mINFO    \u001b[0m \u001b[34mrasa.nlu.model\u001b[0m  - Starting to train component DIETClassifier\n",
            "Epochs: 100% 100/100 [00:25<00:00,  3.91it/s, t_loss=1.991, i_acc=0.927, e_f1=1.000]\n",
            "2020-11-24 12:45:08 \u001b[1;30mINFO    \u001b[0m \u001b[34mrasa.utils.tensorflow.models\u001b[0m  - Finished training.\n",
            "2020-11-24 12:45:08 \u001b[1;30mINFO    \u001b[0m \u001b[34mrasa.nlu.model\u001b[0m  - Finished training component.\n",
            "2020-11-24 12:45:08 \u001b[1;30mINFO    \u001b[0m \u001b[34mrasa.nlu.model\u001b[0m  - Starting to train component EntitySynonymMapper\n",
            "2020-11-24 12:45:08 \u001b[1;30mINFO    \u001b[0m \u001b[34mrasa.nlu.model\u001b[0m  - Finished training component.\n",
            "2020-11-24 12:45:08 \u001b[1;30mINFO    \u001b[0m \u001b[34mrasa.nlu.model\u001b[0m  - Starting to train component ResponseSelector\n",
            "2020-11-24 12:45:08 \u001b[1;30mINFO    \u001b[0m \u001b[34mrasa.nlu.selectors.response_selector\u001b[0m  - Retrieval intent parameter was left to its default value. This response selector will be trained on training examples combining all retrieval intents.\n",
            "2020-11-24 12:45:08 \u001b[1;30mINFO    \u001b[0m \u001b[34mrasa.nlu.model\u001b[0m  - Finished training component.\n",
            "2020-11-24 12:45:08 \u001b[1;30mINFO    \u001b[0m \u001b[34mrasa.nlu.model\u001b[0m  - Starting to train component FallbackClassifier\n",
            "2020-11-24 12:45:08 \u001b[1;30mINFO    \u001b[0m \u001b[34mrasa.nlu.model\u001b[0m  - Finished training component.\n",
            "2020-11-24 12:45:08 \u001b[1;30mINFO    \u001b[0m \u001b[34mrasa.nlu.model\u001b[0m  - Successfully saved model into '/tmp/tmp6s8juo65/nlu'\n",
            "\u001b[94mNLU model training completed.\u001b[0m\n",
            "\u001b[94mTraining Core model...\u001b[0m\n",
            "Processed story blocks: 100% 4/4 [00:00<00:00, 1798.59it/s, # trackers=1]\n",
            "Processed story blocks: 100% 4/4 [00:00<00:00, 504.41it/s, # trackers=4]\n",
            "Processed story blocks: 100% 4/4 [00:00<00:00, 112.24it/s, # trackers=20]\n",
            "Processed story blocks: 100% 4/4 [00:00<00:00, 62.34it/s, # trackers=50]\n",
            "Processed rules: 100% 4/4 [00:00<00:00, 4173.44it/s, # trackers=1]\n",
            "Processed trackers: 100% 4/4 [00:00<00:00, 1637.60it/s, # actions=17]\n",
            "Processed actions: 17it [00:00, 8468.31it/s, # examples=17]\n",
            "Processed trackers: 100% 244/244 [00:01<00:00, 128.83it/s, # actions=57]\n",
            "Epochs: 100% 100/100 [00:08<00:00, 11.38it/s, t_loss=16.880, loss=16.702, acc=0.842]\n",
            "2020-11-24 12:45:30 \u001b[1;30mINFO    \u001b[0m \u001b[34mrasa.utils.tensorflow.models\u001b[0m  - Finished training.\n",
            "Processed trackers: 100% 4/4 [00:00<00:00, 2939.25it/s, # actions=9]\n",
            "Processed actions: 9it [00:00, 3964.79it/s, # examples=8]\n",
            "Processed trackers: 100% 4/4 [00:00<00:00, 1240.46it/s, # actions=17]\n",
            "Processed trackers: 100% 4/4 [00:00<00:00, 2055.02it/s]\n",
            "Processed trackers: 100% 8/8 [00:00<00:00, 874.82it/s]\n",
            "2020-11-24 12:45:30 \u001b[1;30mINFO    \u001b[0m \u001b[34mrasa.core.agent\u001b[0m  - Persisted model to '/tmp/tmp6s8juo65/core'\n",
            "\u001b[94mCore model training completed.\u001b[0m\n",
            "\u001b[92mYour Rasa model is trained and saved at '/content/drive/My Drive/limechat/models/20201124-124531.tar.gz'.\u001b[0m\n"
          ],
          "name": "stdout"
        }
      ]
    },
    {
      "cell_type": "code",
      "metadata": {
        "colab": {
          "base_uri": "https://localhost:8080/",
          "height": 34
        },
        "id": "XdSUc2ciJebB",
        "outputId": "cf55dffb-ff57-4f93-b50a-6a4a9991ee8e"
      },
      "source": [
        ""
      ],
      "execution_count": null,
      "outputs": [
        {
          "output_type": "display_data",
          "data": {
            "application/javascript": [
              "\n",
              "    async function download(id, filename, size) {\n",
              "      if (!google.colab.kernel.accessAllowed) {\n",
              "        return;\n",
              "      }\n",
              "      const div = document.createElement('div');\n",
              "      const label = document.createElement('label');\n",
              "      label.textContent = `Downloading \"${filename}\": `;\n",
              "      div.appendChild(label);\n",
              "      const progress = document.createElement('progress');\n",
              "      progress.max = size;\n",
              "      div.appendChild(progress);\n",
              "      document.body.appendChild(div);\n",
              "\n",
              "      const buffers = [];\n",
              "      let downloaded = 0;\n",
              "\n",
              "      const channel = await google.colab.kernel.comms.open(id);\n",
              "      // Send a message to notify the kernel that we're ready.\n",
              "      channel.send({})\n",
              "\n",
              "      for await (const message of channel.messages) {\n",
              "        // Send a message to notify the kernel that we're ready.\n",
              "        channel.send({})\n",
              "        if (message.buffers) {\n",
              "          for (const buffer of message.buffers) {\n",
              "            buffers.push(buffer);\n",
              "            downloaded += buffer.byteLength;\n",
              "            progress.value = downloaded;\n",
              "          }\n",
              "        }\n",
              "      }\n",
              "      const blob = new Blob(buffers, {type: 'application/binary'});\n",
              "      const a = document.createElement('a');\n",
              "      a.href = window.URL.createObjectURL(blob);\n",
              "      a.download = filename;\n",
              "      div.appendChild(a);\n",
              "      a.click();\n",
              "      div.remove();\n",
              "    }\n",
              "  "
            ],
            "text/plain": [
              "<IPython.core.display.Javascript object>"
            ]
          },
          "metadata": {
            "tags": []
          }
        },
        {
          "output_type": "display_data",
          "data": {
            "application/javascript": [
              "download(\"download_685cf1f9-6161-4790-b4be-0f85cdc9818f\", \"\", 4096)"
            ],
            "text/plain": [
              "<IPython.core.display.Javascript object>"
            ]
          },
          "metadata": {
            "tags": []
          }
        }
      ]
    },
    {
      "cell_type": "code",
      "metadata": {
        "colab": {
          "base_uri": "https://localhost:8080/"
        },
        "id": "5IyODBXED0g3",
        "outputId": "ca742025-e06a-46bb-b6c7-eaa58a9eb2af"
      },
      "source": [
        "!rasa test\n"
      ],
      "execution_count": 122,
      "outputs": [
        {
          "output_type": "stream",
          "text": [
            "2020-11-24 12:45:59.632476: E tensorflow/stream_executor/cuda/cuda_driver.cc:314] failed call to cuInit: CUDA_ERROR_NO_DEVICE: no CUDA-capable device is detected\n",
            "2020-11-24 12:46:09 \u001b[1;30mINFO    \u001b[0m \u001b[34mrasa.shared.utils.validation\u001b[0m  - The 'version' key is missing in the training data file /tmp/tmpb769vlba/01e07e4e2e124c4d9dd5ace41f274f87_test_stories.yml. Rasa Open Source will read the file as a version '2.0' file. See https://rasa.com/docs/rasa/training-data-format.\n",
            "\u001b[93m/usr/local/lib/python3.6/dist-packages/rasa/shared/utils/io.py:93: UserWarning: Issue found in '/tmp/tmpb769vlba/01e07e4e2e124c4d9dd5ace41f274f87_test_stories.yml': \n",
            "Found intent 'mood_great' in stories which is not part of the domain.\n",
            "  More info at https://rasa.com/docs/rasa/stories\n",
            "\u001b[0m\u001b[93m/usr/local/lib/python3.6/dist-packages/rasa/shared/utils/io.py:93: UserWarning: Issue found in '/tmp/tmpb769vlba/01e07e4e2e124c4d9dd5ace41f274f87_test_stories.yml': \n",
            "Found intent 'goodbye' in stories which is not part of the domain.\n",
            "  More info at https://rasa.com/docs/rasa/stories\n",
            "\u001b[0m\u001b[93m/usr/local/lib/python3.6/dist-packages/rasa/shared/utils/io.py:93: UserWarning: Issue found in '/tmp/tmpb769vlba/01e07e4e2e124c4d9dd5ace41f274f87_test_stories.yml': \n",
            "Found intent 'mood_unhappy' in stories which is not part of the domain.\n",
            "  More info at https://rasa.com/docs/rasa/stories\n",
            "\u001b[0m\u001b[93m/usr/local/lib/python3.6/dist-packages/rasa/shared/utils/io.py:93: UserWarning: Issue found in '/tmp/tmpb769vlba/01e07e4e2e124c4d9dd5ace41f274f87_test_stories.yml': \n",
            "Found intent 'affirm' in stories which is not part of the domain.\n",
            "  More info at https://rasa.com/docs/rasa/stories\n",
            "\u001b[0m\u001b[93m/usr/local/lib/python3.6/dist-packages/rasa/shared/utils/io.py:93: UserWarning: Issue found in '/tmp/tmpb769vlba/01e07e4e2e124c4d9dd5ace41f274f87_test_stories.yml': \n",
            "Found intent 'deny' in stories which is not part of the domain.\n",
            "  More info at https://rasa.com/docs/rasa/stories\n",
            "\u001b[0m\u001b[93m/usr/local/lib/python3.6/dist-packages/rasa/shared/utils/io.py:93: UserWarning: Issue found in '/tmp/tmpb769vlba/01e07e4e2e124c4d9dd5ace41f274f87_test_stories.yml': \n",
            "Found intent 'bot_challenge' in stories which is not part of the domain.\n",
            "  More info at https://rasa.com/docs/rasa/stories\n",
            "Processed story blocks: 100% 7/7 [00:00<00:00, 3564.85it/s, # trackers=1]\n",
            "2020-11-24 12:46:09 \u001b[1;30mINFO    \u001b[0m \u001b[34mrasa.core.test\u001b[0m  - Evaluating 7 stories\n",
            "Progress:\n",
            "100% 7/7 [00:00<00:00,  7.79it/s]\n",
            "2020-11-24 12:46:10 \u001b[1;30mINFO    \u001b[0m \u001b[34mrasa.core.test\u001b[0m  - Finished collecting predictions.\n",
            "2020-11-24 12:46:10 \u001b[1;30mINFO    \u001b[0m \u001b[34mrasa.core.test\u001b[0m  - Evaluation Results on END-TO-END level:\n",
            "2020-11-24 12:46:10 \u001b[1;30mINFO    \u001b[0m \u001b[34mrasa.core.test\u001b[0m  - \tCorrect:          0 / 7\n",
            "2020-11-24 12:46:10 \u001b[1;30mINFO    \u001b[0m \u001b[34mrasa.core.test\u001b[0m  - \tF1-Score:         0.000\n",
            "2020-11-24 12:46:10 \u001b[1;30mINFO    \u001b[0m \u001b[34mrasa.core.test\u001b[0m  - \tPrecision:        0.000\n",
            "2020-11-24 12:46:10 \u001b[1;30mINFO    \u001b[0m \u001b[34mrasa.core.test\u001b[0m  - \tAccuracy:         0.000\n",
            "2020-11-24 12:46:10 \u001b[1;30mINFO    \u001b[0m \u001b[34mrasa.core.test\u001b[0m  - \tIn-data fraction: 0.286\n",
            "2020-11-24 12:46:10 \u001b[1;30mINFO    \u001b[0m \u001b[34mrasa.core.test\u001b[0m  - Stories report saved to results/story_report.json.\n",
            "2020-11-24 12:46:10 \u001b[1;30mINFO    \u001b[0m \u001b[34mrasa.core.test\u001b[0m  - Evaluation Results on ACTION level:\n",
            "2020-11-24 12:46:10 \u001b[1;30mINFO    \u001b[0m \u001b[34mrasa.core.test\u001b[0m  - \tCorrect:          17 / 35\n",
            "2020-11-24 12:46:10 \u001b[1;30mINFO    \u001b[0m \u001b[34mrasa.core.test\u001b[0m  - \tF1-Score:         0.439\n",
            "2020-11-24 12:46:10 \u001b[1;30mINFO    \u001b[0m \u001b[34mrasa.core.test\u001b[0m  - \tPrecision:        0.400\n",
            "2020-11-24 12:46:10 \u001b[1;30mINFO    \u001b[0m \u001b[34mrasa.core.test\u001b[0m  - \tAccuracy:         0.510\n",
            "2020-11-24 12:46:10 \u001b[1;30mINFO    \u001b[0m \u001b[34mrasa.core.test\u001b[0m  - \tIn-data fraction: 0.286\n",
            "2020-11-24 12:46:11 \u001b[1;30mINFO    \u001b[0m \u001b[34mrasa.utils.plotting\u001b[0m  - Confusion matrix, without normalization: \n",
            "[[ 0  0  0  0  0  0  0  0]\n",
            " [ 0 16  0  0  0  0  0  0]\n",
            " [ 3  0  0  0  0  0  0  0]\n",
            " [ 0  3  0  0  0  0  0  0]\n",
            " [ 4  0  0  0  0  0  0  0]\n",
            " [ 0  0  0  0  0  5  0  0]\n",
            " [ 3  0  0  0  0  0  0  0]\n",
            " [ 1  0  0  0  0  0  0  0]]\n",
            "\u001b[93m/usr/local/lib/python3.6/dist-packages/rasa/shared/utils/io.py:93: UserWarning: Issue found while processing '/tmp/tmpx5oec_dl/5126343872834011a52b2124bb7b2336_nlu.yml': Intent 'book_simple' has no examples.\n",
            "  More info at https://rasa.com/docs/rasa/training-data-format\n",
            "\u001b[0m\u001b[93m/usr/local/lib/python3.6/dist-packages/rasa/shared/utils/io.py:93: UserWarning: Issue found while processing '/tmp/tmpx5oec_dl/5126343872834011a52b2124bb7b2336_nlu.yml': Intent 'book_deluxe' has no examples.\n",
            "  More info at https://rasa.com/docs/rasa/training-data-format\n",
            "\u001b[0m\u001b[93m/usr/local/lib/python3.6/dist-packages/rasa/shared/utils/io.py:93: UserWarning: Issue found while processing '/tmp/tmpx5oec_dl/5126343872834011a52b2124bb7b2336_nlu.yml': The item 'faq_checkout' contains an example that doesn't start with a '-' symbol: \n",
            "This training example will be skipped.\n",
            "  More info at https://rasa.com/docs/rasa/training-data-format\n",
            "\u001b[0m\u001b[93m/usr/local/lib/python3.6/dist-packages/rasa/shared/utils/io.py:93: UserWarning: Issue found while processing '/tmp/tmpx5oec_dl/5126343872834011a52b2124bb7b2336_nlu.yml': The item 'faq_checkout' contains an example that doesn't start with a '-' symbol:  \n",
            "This training example will be skipped.\n",
            "  More info at https://rasa.com/docs/rasa/training-data-format\n",
            "\u001b[0m2020-11-24 12:46:15 \u001b[1;30mINFO    \u001b[0m \u001b[34mrasa.nlu.test\u001b[0m  - Running model for predictions:\n",
            "100% 55/55 [00:00<00:00, 93.50it/s]\n",
            "2020-11-24 12:46:15 \u001b[1;30mINFO    \u001b[0m \u001b[34mrasa.nlu.test\u001b[0m  - Intent evaluation results:\n",
            "2020-11-24 12:46:15 \u001b[1;30mINFO    \u001b[0m \u001b[34mrasa.nlu.test\u001b[0m  - Intent Evaluation: Only considering those 55 examples that have a defined intent out of 55 examples.\n",
            "2020-11-24 12:46:15 \u001b[1;30mINFO    \u001b[0m \u001b[34mrasa.nlu.test\u001b[0m  - Classification report saved to results/intent_report.json.\n",
            "2020-11-24 12:46:15 \u001b[1;30mINFO    \u001b[0m \u001b[34mrasa.nlu.test\u001b[0m  - Incorrect intent predictions saved to results/intent_errors.json.\n",
            "2020-11-24 12:46:15 \u001b[1;30mINFO    \u001b[0m \u001b[34mrasa.utils.plotting\u001b[0m  - Confusion matrix, without normalization: \n",
            "[[ 5  1  0  0  0  0  0  0  0]\n",
            " [ 0  5  0  0  0  0  0  0  0]\n",
            " [ 0  0  5  0  0  0  0  0  0]\n",
            " [ 0  0  0  5  0  0  0  0  0]\n",
            " [ 0  0  0  0  5  0  0  0  0]\n",
            " [ 0  0  0  0  0  5  0  0  0]\n",
            " [ 0  0  0  0  0  0  5  0  0]\n",
            " [ 0  0  0  0  0  0  0 13  0]\n",
            " [ 0  0  0  0  0  0  0  0  6]]\n",
            "2020-11-24 12:46:17 \u001b[1;30mINFO    \u001b[0m \u001b[34mrasa.nlu.test\u001b[0m  - Entity evaluation results:\n",
            "2020-11-24 12:46:17 \u001b[1;30mINFO    \u001b[0m \u001b[34mrasa.nlu.test\u001b[0m  - Evaluation for entity extractor: DIETClassifier \n",
            "2020-11-24 12:46:17 \u001b[1;30mINFO    \u001b[0m \u001b[34mrasa.nlu.test\u001b[0m  - Classification report for 'DIETClassifier' saved to 'results/DIETClassifier_report.json'.\n",
            "2020-11-24 12:46:17 \u001b[1;30mINFO    \u001b[0m \u001b[34mrasa.nlu.test\u001b[0m  - Your model predicted all entities successfully.\n",
            "2020-11-24 12:46:17 \u001b[1;30mINFO    \u001b[0m \u001b[34mrasa.utils.plotting\u001b[0m  - Confusion matrix, without normalization: \n",
            "[[208   0]\n",
            " [  0   1]]\n"
          ],
          "name": "stdout"
        }
      ]
    },
    {
      "cell_type": "code",
      "metadata": {
        "colab": {
          "base_uri": "https://localhost:8080/"
        },
        "id": "Ym3CsAr3F0fP",
        "outputId": "af1fb2b4-75c7-4956-f617-ce0f24294b3f"
      },
      "source": [
        "\n",
        "!rasa x"
      ],
      "execution_count": null,
      "outputs": [
        {
          "output_type": "stream",
          "text": [
            "2020-11-24 11:52:10.928917: E tensorflow/stream_executor/cuda/cuda_driver.cc:314] failed call to cuInit: CUDA_ERROR_NO_DEVICE: no CUDA-capable device is detected\n",
            "\u001b[92mBefore you can use Rasa X, you have to agree to its license agreement (you will only have to do this once).\u001b[0m\n",
            "\u001b[74C\u001b[?7h\u001b[0m\u001b[?12l\u001b[?25h\u001b[74D\u001b[J\u001b[0m\u001b[?7h\u001b[?2004l\u001b[?1lWARNING: your terminal doesn't support cursor position requests (CPR).\n",
            "\u001b[74C\u001b[?7h\u001b[0m\u001b[?12l\u001b[?25h2020-11-24 11:52:15.025747: E tensorflow/stream_executor/cuda/cuda_driver.cc:314] failed call to cuInit: CUDA_ERROR_NO_DEVICE: no CUDA-capable device is detected\n",
            "\u001b[0m\n",
            "\u001b[J\u001b[?7h\u001b[0m\u001b[?12l\u001b[?25h\u001b[?2004l\u001b[?1l\u001b[6n\u001b[?2004h\u001b[?25l\u001b[0m\u001b[?7l\u001b[0m\u001b[J\u001b[0;1m \u001b[0m\n",
            "\u001b[0;1mRasa X License Agreement\u001b[0m\n",
            "\u001b[0;1m===========================\u001b[0m\n",
            "\n",
            "\u001b[79Cr\u001b[0m\n",
            "\u001b[79Cp\u001b[0m\n",
            "\u001b[52C\u001b[?7h\u001b[0m\u001b[?12l\u001b[?25h\u001b[52D\u001b[6A\u001b[J\u001b[0m\u001b[?7h\u001b[?2004l\u001b[?1lWARNING: your terminal doesn't support cursor position requests (CPR).\n",
            "\u001b[?2004h\u001b[?25l\u001b[0m\u001b[?7l\u001b[0m\u001b[J\u001b[0;1m \u001b[0m\n",
            "\u001b[0;1mRasa X License Agreement\u001b[0m\n",
            "\u001b[0;1m===========================\u001b[0m\n",
            "\n",
            "\u001b[79Cr\u001b[0m\n",
            "\u001b[79Cp\u001b[0m\n",
            "\u001b[52C\u001b[?7h\u001b[0m\u001b[?12l\u001b[?25h\u001b[?25l\u001b[?7l\u001b[6A\u001b[52D\u001b[0m\u001b[J\u001b[0;1m \u001b[0m\n",
            "\u001b[0;1mRasa X License Agreement\u001b[0m\n",
            "\u001b[0;1m===========================\u001b[0m\n",
            "\n",
            "\u001b[79Cr\u001b[0m\n",
            "\u001b[79Cp\u001b[0m\n",
            "\u001b[0m\n",
            "\u001b[J\u001b[?7h\u001b[0m\u001b[?12l\u001b[?25h\u001b[?2004l\u001b[91mSorry, without accepting the terms, you cannot use Rasa X. You can of course still use the (Apache 2 licensed) Rasa Open Source framework: https://github.com/RasaHQ/rasa\u001b[0m\n"
          ],
          "name": "stdout"
        }
      ]
    }
  ]
}